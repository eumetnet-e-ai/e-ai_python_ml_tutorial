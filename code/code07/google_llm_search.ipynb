{
 "cells": [
  {
   "cell_type": "code",
   "execution_count": 1,
   "metadata": {
    "id": "X7RWEiP2Mc-b"
   },
   "outputs": [],
   "source": [
    "#LLM_API_KEY = \"zzz your key\"\n",
    "#SERPAPI_KEY = \"yyy your key\"\n",
    "#search_engine_id = \"your key\""
   ]
  },
  {
   "cell_type": "code",
   "execution_count": 2,
   "metadata": {},
   "outputs": [
    {
     "name": "stdout",
     "output_type": "stream",
     "text": [
      "\u001b[33mWARNING: Skipping dotenv as it is not installed.\u001b[0m\u001b[33m\n",
      "\u001b[0mRequirement already satisfied: python-dotenv in /media/nas/uwork1/rpotthas/ropy/lib64/python3.11/site-packages (1.1.0)\n"
     ]
    }
   ],
   "source": [
    "# First, force removal of the wrong package and install the correct one\n",
    "!pip uninstall -y dotenv\n",
    "!pip install -U python-dotenv"
   ]
  },
  {
   "cell_type": "code",
   "execution_count": 3,
   "metadata": {},
   "outputs": [
    {
     "name": "stdout",
     "output_type": "stream",
     "text": [
      "/media/nas/uwork1/rpotthas/ropy/bin/python3.11\n",
      "\u001b[31mERROR: Can not perform a '--user' install. User site-packages are not visible in this virtualenv.\u001b[0m\u001b[31m\n",
      "\u001b[0m"
     ]
    }
   ],
   "source": [
    "import sys\n",
    "print(sys.executable)\n",
    "!{sys.executable} -m pip install --user --upgrade python-dotenv"
   ]
  },
  {
   "cell_type": "code",
   "execution_count": 4,
   "metadata": {},
   "outputs": [],
   "source": [
    "# Read the .env file\n",
    "from dotenv import load_dotenv\n",
    "import os\n",
    "\n",
    "load_dotenv()  # By default, looks for a file named '.env'\n",
    "SERPAPI_KEY = os.getenv(\"SERPAPI_KEY\")\n",
    "LLM_API_KEY = os.getenv(\"LLM_API_KEY\")\n",
    "search_engine_id = os.getenv(\"search_engine_id\")"
   ]
  },
  {
   "cell_type": "code",
   "execution_count": 5,
   "metadata": {},
   "outputs": [
    {
     "name": "stdout",
     "output_type": "stream",
     "text": [
      "Requirement already satisfied: openai in /media/nas/uwork1/rpotthas/ropy/lib64/python3.11/site-packages (1.30.1)\n",
      "Requirement already satisfied: anyio<5,>=3.5.0 in /media/nas/uwork1/rpotthas/ropy/lib64/python3.11/site-packages (from openai) (4.3.0)\n",
      "Requirement already satisfied: distro<2,>=1.7.0 in /media/nas/uwork1/rpotthas/ropy/lib64/python3.11/site-packages (from openai) (1.9.0)\n",
      "Requirement already satisfied: httpx<1,>=0.23.0 in /media/nas/uwork1/rpotthas/ropy/lib64/python3.11/site-packages (from openai) (0.27.0)\n",
      "Requirement already satisfied: pydantic<3,>=1.9.0 in /media/nas/uwork1/rpotthas/ropy/lib64/python3.11/site-packages (from openai) (1.10.21)\n",
      "Requirement already satisfied: sniffio in /media/nas/uwork1/rpotthas/ropy/lib64/python3.11/site-packages (from openai) (1.3.1)\n",
      "Requirement already satisfied: tqdm>4 in /media/nas/uwork1/rpotthas/ropy/lib64/python3.11/site-packages (from openai) (4.66.4)\n",
      "Requirement already satisfied: typing-extensions<5,>=4.7 in /media/nas/uwork1/rpotthas/ropy/lib64/python3.11/site-packages (from openai) (4.12.2)\n",
      "Requirement already satisfied: idna>=2.8 in /media/nas/uwork1/rpotthas/ropy/lib64/python3.11/site-packages (from anyio<5,>=3.5.0->openai) (3.7)\n",
      "Requirement already satisfied: certifi in /media/nas/uwork1/rpotthas/ropy/lib64/python3.11/site-packages (from httpx<1,>=0.23.0->openai) (2024.2.2)\n",
      "Requirement already satisfied: httpcore==1.* in /media/nas/uwork1/rpotthas/ropy/lib64/python3.11/site-packages (from httpx<1,>=0.23.0->openai) (1.0.5)\n",
      "Requirement already satisfied: h11<0.15,>=0.13 in /media/nas/uwork1/rpotthas/ropy/lib64/python3.11/site-packages (from httpcore==1.*->httpx<1,>=0.23.0->openai) (0.14.0)\n"
     ]
    }
   ],
   "source": [
    "!pip install openai"
   ]
  },
  {
   "cell_type": "code",
   "execution_count": 6,
   "metadata": {
    "colab": {
     "base_uri": "https://localhost:8080/"
    },
    "executionInfo": {
     "elapsed": 19956,
     "status": "ok",
     "timestamp": 1744745884388,
     "user": {
      "displayName": "Roland Potthast",
      "userId": "09141136587533247770"
     },
     "user_tz": -120
    },
    "id": "TAU1tYB5Li0y",
    "outputId": "71c5175c-461a-438f-c7a9-c53fb95d61ae"
   },
   "outputs": [
    {
     "name": "stdout",
     "output_type": "stream",
     "text": [
      "[]\n"
     ]
    }
   ],
   "source": [
    "import requests\n",
    "from bs4 import BeautifulSoup\n",
    "import openai\n",
    "\n",
    "# Function to search Google (Using SerpAPI)\n",
    "def google_search(query, api_key, num_results=3):\n",
    "    #search_url = f\"https://serpapi.com/search?q={query}&api_key={api_key}\"\n",
    "    #response = requests.get(search_url)\n",
    "    url = f\"https://www.googleapis.com/customsearch/v1?key={api_key}&cx={search_engine_id}&q={query}&num=10\"\n",
    "    response = requests.get(url)\n",
    "    results = response.json().get(\"organic_results\", [])\n",
    "    print(results)\n",
    "    return [result[\"link\"] for result in results[:num_results]]\n",
    "\n",
    "# Function to scrape website content\n",
    "def scrape_website(url):\n",
    "    try:\n",
    "        response = requests.get(url, headers={\"User-Agent\": \"Mozilla/5.0\"})\n",
    "        soup = BeautifulSoup(response.text, \"html.parser\")\n",
    "        paragraphs = soup.find_all(\"p\")\n",
    "        return \" \".join([p.get_text() for p in paragraphs[:10]])  # First 10 paragraphs\n",
    "    except Exception as e:\n",
    "        return f\"Failed to scrape {url}: {e}\"\n",
    "\n",
    "# Function to generate an answer using OpenAI API (Updated for v1.0+)\n",
    "def generate_answer(prompt, llm_api_key):\n",
    "    client = openai.OpenAI(api_key=llm_api_key)\n",
    "    response = client.chat.completions.create(\n",
    "        model=\"gpt-4o-mini\",\n",
    "        messages=[\n",
    "            {\"role\": \"system\", \"content\": \"You are a helpful AI assistant.\"},\n",
    "            {\"role\": \"user\", \"content\": prompt},\n",
    "        ]\n",
    "    )\n",
    "    return response.choices[0].message.content\n",
    "\n",
    "# Main pipeline\n",
    "def answer_from_google(query, serpapi_key, llm_api_key):\n",
    "    urls = google_search(query, serpapi_key)\n",
    "    extracted_content = \"\\n\\n\".join([scrape_website(url) for url in urls])\n",
    "    prompt = f\"{query}\\n\\n{extracted_content}\"\n",
    "    return generate_answer(prompt, llm_api_key)\n",
    "\n",
    "# Example usage\n",
    "#query = \"What is quantum computing for weather and climate?\"\n",
    "query = \"EUMETNET Artificial Intelligence and Machine Learning for WEather, Climate E-AI.\"\n",
    "answer = answer_from_google(query, SERPAPI_KEY, LLM_API_KEY)\n",
    "#print(answer)"
   ]
  },
  {
   "cell_type": "code",
   "execution_count": 7,
   "metadata": {
    "colab": {
     "base_uri": "https://localhost:8080/",
     "height": 602
    },
    "executionInfo": {
     "elapsed": 57,
     "status": "ok",
     "timestamp": 1744746192030,
     "user": {
      "displayName": "Roland Potthast",
      "userId": "09141136587533247770"
     },
     "user_tz": -120
    },
    "id": "2zVyAhNPO4gE",
    "outputId": "4aded421-4476-4e96-d6b8-cca85b184475"
   },
   "outputs": [
    {
     "data": {
      "text/markdown": [
       "EUMETNET, which stands for the European Meteorological Network, is an intergovernmental organization that brings together national meteorological services across Europe to collaborate on a range of activities related to meteorology and climatology. The use of Artificial Intelligence (AI) and Machine Learning (ML) in the fields of weather and climate has become increasingly prominent due to the growing volume of data and the complex nature of atmospheric processes.\n",
       "\n",
       "Here are several key areas where AI and ML can impact weather and climate science:\n",
       "\n",
       "1. **Weather Prediction**: AI and ML can improve forecasting models by identifying patterns in large datasets that traditional methods may not easily detect. Techniques like neural networks can be used to enhance short-term and long-term weather predictions.\n",
       "\n",
       "2. **Data Assimilation**: AI can help in integrating observational data into numerical weather prediction models more efficiently, optimizing the process of deriving initial conditions for forecasts.\n",
       "\n",
       "3. **Climate Modeling**: Machine learning can assist in refining climate models by improving parameterizations, such as cloud formation and ocean-atmosphere interactions, which are often difficult to represent accurately.\n",
       "\n",
       "4. **Anomaly Detection**: AI can be employed to identify unusual weather patterns or climate anomalies, providing early warnings for extreme weather events such as storms, floods, or heatwaves.\n",
       "\n",
       "5. **Remote Sensing**: AI techniques can analyze satellite imagery and other remote sensing data to monitor environmental changes, support disaster response, and track atmospheric phenomena.\n",
       "\n",
       "6. **Public Engagement and Communication**: AI-driven applications can help convey weather and climate information to the public in more accessible formats, enhancing understanding and preparedness.\n",
       "\n",
       "7. **Optimization of Resources**: AI can optimize the operation of weather stations and enhance the management of terrestrial and ocean observation networks, improving the efficiency of meteorological services.\n",
       "\n",
       "EUMETNET's involvement in AI and ML initiatives would likely focus on collaborative projects that leverage the expertise of various national meteorological services in Europe. This may include developing shared tools, resources, and methodologies for implementing AI in operational weather forecasting and climate monitoring.\n",
       "\n",
       "To implement an AI and ML strategy in weather and climate applications effectively, EUMETNET and its partners would also need to address issues such as data quality, algorithm transparency, and the interpretability of AI outputs, ensuring that innovations are reliable and beneficial for the meteorological community and society at large."
      ],
      "text/plain": [
       "<IPython.core.display.Markdown object>"
      ]
     },
     "metadata": {},
     "output_type": "display_data"
    }
   ],
   "source": [
    "from IPython.display import display, Markdown\n",
    "display(Markdown(answer))"
   ]
  },
  {
   "cell_type": "code",
   "execution_count": 8,
   "metadata": {
    "colab": {
     "base_uri": "https://localhost:8080/"
    },
    "executionInfo": {
     "elapsed": 222,
     "status": "ok",
     "timestamp": 1744746225508,
     "user": {
      "displayName": "Roland Potthast",
      "userId": "09141136587533247770"
     },
     "user_tz": -120
    },
    "id": "RuwhRegVPVb-",
    "outputId": "fdafd6c5-1a62-4bf0-b641-df884c397c47"
   },
   "outputs": [
    {
     "name": "stdout",
     "output_type": "stream",
     "text": [
      "\n",
      "🔍 Search Results for: 'EUMETNET AI programme' (Top 5)\n",
      "============================================================\n",
      "📌 **Result 1:**\n",
      "   **Title:** EUMETNET Launches Ambitious AI Programme with ECMWF and ...\n",
      "   **Link:** https://community.wmo.int/en/news/eumetnet-launches-ambitious-ai-programme-ecmwf-and-eumetsat-wmo-research-group-enhance-collaboration-strategies\n",
      "   **Snippet:** Jun 13, 2024 ... Activity Areas (1) ... In January 2024, EUMETNET, in collaboration with ECMWF and EUMETSAT, launched a groundbreaking five-year Artificial ...\n",
      "\n",
      "------------------------------------------------------------\n",
      "📌 **Result 2:**\n",
      "   **Title:** Eumetnet: Homepage\n",
      "   **Link:** https://www.eumetnet.eu/\n",
      "   **Snippet:** ... AI/ML developments within and beyond the E-AI programme. High-Value Datasets. In the Implementing Regulation of the revised Open Data Directive, the European ...\n",
      "\n",
      "------------------------------------------------------------\n",
      "📌 **Result 3:**\n",
      "   **Title:** Machine Learning pilot project kick-off workshop (3-7 June 2024 ...\n",
      "   **Link:** https://events.ecmwf.int/event/410/\n",
      "   **Snippet:** The project is part of a new EUMETNET optional programme on AI and Machine Learning (E-AI), reflecting the strong initiative and motivation of European NMHS ...\n",
      "\n",
      "------------------------------------------------------------\n",
      "📌 **Result 4:**\n",
      "   **Title:** EUMETSAT to contribute to European meteorological AI initiative ...\n",
      "   **Link:** https://www.eumetsat.int/eumetsat-contribute-european-meteorological-ai-initiative\n",
      "   **Snippet:** Jun 26, 2024 ... ... EUMETNET Artificial Intelligence and Machine Learning for Weather, Climate and Environmental Applications programme. EUMETNET is a grouping ...\n",
      "\n",
      "------------------------------------------------------------\n",
      "📌 **Result 5:**\n",
      "   **Title:** EUMETNET FCAM EWGLAM2022\n",
      "   **Link:** http://www.euroforecaster.org/presentations_2023/presentations/EUMETNET.pdf\n",
      "   **Snippet:** Sep 28, 2023 ... New EUMETNET Programme phase (2024 – 2028). 2/18. Page 6. Capacity ... →Discussion on new Programme or Working Group on collaboration on AI/ML.\n",
      "\n",
      "------------------------------------------------------------\n",
      "[{'link': 'https://community.wmo.int/en/news/eumetnet-launches-ambitious-ai-programme-ecmwf-and-eumetsat-wmo-research-group-enhance-collaboration-strategies',\n",
      "  'snippet': 'Jun 13, 2024 ... Activity Areas (1) ... In January 2024, '\n",
      "             'EUMETNET, in collaboration with ECMWF and EUMETSAT, launched a '\n",
      "             'groundbreaking five-year Artificial\\xa0...',\n",
      "  'title': 'EUMETNET Launches Ambitious AI Programme with ECMWF and ...'},\n",
      " {'link': 'https://www.eumetnet.eu/',\n",
      "  'snippet': '... AI/ML developments within and beyond the E-AI programme. '\n",
      "             'High-Value Datasets. In the Implementing Regulation of the '\n",
      "             'revised Open Data Directive, the European\\xa0...',\n",
      "  'title': 'Eumetnet: Homepage'},\n",
      " {'link': 'https://events.ecmwf.int/event/410/',\n",
      "  'snippet': 'The project is part of a new EUMETNET optional programme on AI '\n",
      "             'and Machine Learning (E-AI), reflecting the strong initiative '\n",
      "             'and motivation of European NMHS\\xa0...',\n",
      "  'title': 'Machine Learning pilot project kick-off workshop (3-7 June 2024 '\n",
      "           '...'},\n",
      " {'link': 'https://www.eumetsat.int/eumetsat-contribute-european-meteorological-ai-initiative',\n",
      "  'snippet': 'Jun 26, 2024 ... ... EUMETNET Artificial Intelligence and '\n",
      "             'Machine Learning for Weather, Climate and Environmental '\n",
      "             'Applications programme. EUMETNET is a grouping\\xa0...',\n",
      "  'title': 'EUMETSAT to contribute to European meteorological AI initiative '\n",
      "           '...'},\n",
      " {'link': 'http://www.euroforecaster.org/presentations_2023/presentations/EUMETNET.pdf',\n",
      "  'snippet': 'Sep 28, 2023 ... New EUMETNET Programme phase (2024 – 2028). '\n",
      "             '2/18. Page 6. Capacity ... →Discussion on new Programme or '\n",
      "             'Working Group on collaboration on AI/ML.',\n",
      "  'title': 'EUMETNET FCAM EWGLAM2022'}]\n"
     ]
    }
   ],
   "source": [
    "import requests\n",
    "from pprint import pprint\n",
    "\n",
    "\n",
    "def search_google(query, api_key, search_engine_id, num_results=5):\n",
    "    \"\"\"\n",
    "    Performs a Google Search using the Custom Search JSON API and returns structured results.\n",
    "\n",
    "    :param query: The search term.\n",
    "    :param api_key: Your Google API key.\n",
    "    :param search_engine_id: Your Custom Search Engine ID.\n",
    "    :param num_results: The number of search results to return.\n",
    "    :return: A list of search results or an error message.\n",
    "    \"\"\"\n",
    "\n",
    "    url = f\"https://www.googleapis.com/customsearch/v1?key={api_key}&cx={search_engine_id}&q={query}&num={num_results}\"\n",
    "    response = requests.get(url)\n",
    "\n",
    "    # Check if the request was successful\n",
    "    if response.status_code != 200:\n",
    "        print(f\"❌ Error: {response.status_code} - {response.text}\")\n",
    "        return []\n",
    "\n",
    "    # Parse JSON response correctly\n",
    "    data = response.json()\n",
    "    results = []\n",
    "\n",
    "    if \"items\" in data:\n",
    "        print(f\"\\n🔍 Search Results for: '{query}' (Top {num_results})\")\n",
    "        print(\"=\" * 60)\n",
    "\n",
    "        for i, item in enumerate(data[\"items\"], start=1):\n",
    "            title = item.get(\"title\", \"No Title\")\n",
    "            link = item.get(\"link\", \"No Link\")\n",
    "            snippet = item.get(\"snippet\", \"No Description\")\n",
    "\n",
    "            # Store the structured result\n",
    "            results.append({\"title\": title, \"link\": link, \"snippet\": snippet})\n",
    "\n",
    "            # Print in a structured way\n",
    "            print(f\"📌 **Result {i}:**\")\n",
    "            print(f\"   **Title:** {title}\")\n",
    "            print(f\"   **Link:** {link}\")\n",
    "            print(f\"   **Snippet:** {snippet}\\n\")\n",
    "            print(\"-\" * 60)\n",
    "    else:\n",
    "        print(\"❌ No results found.\")\n",
    "\n",
    "    return results\n",
    "\n",
    "# Example usage:\n",
    "API_KEY = SERPAPI_KEY  # Correct Google API Key\n",
    "SEARCH_ENGINE_ID = search_engine_id  # Custom Search Engine ID\n",
    "\n",
    "query = \"EUMETNET AI programme\"\n",
    "search_results = search_google(query, API_KEY, SEARCH_ENGINE_ID, num_results=5)\n",
    "\n",
    "# Use `search_results` for further processing\n",
    "pprint(search_results)"
   ]
  },
  {
   "cell_type": "code",
   "execution_count": 9,
   "metadata": {
    "colab": {
     "base_uri": "https://localhost:8080/"
    },
    "executionInfo": {
     "elapsed": 16822,
     "status": "ok",
     "timestamp": 1744746252228,
     "user": {
      "displayName": "Roland Potthast",
      "userId": "09141136587533247770"
     },
     "user_tz": -120
    },
    "id": "pCdZ3SyrVDOG",
    "outputId": "753f9a00-f980-4d29-e501-080e0bf8293f"
   },
   "outputs": [
    {
     "name": "stdout",
     "output_type": "stream",
     "text": [
      "\n",
      "🔍 Search Results for: 'Tell me about EUMETNET Artificial Intelligence Programme' (Top 3)\n",
      "============================================================\n",
      "📌 **Result 1:** EUMETNET Launches Ambitious AI Programme with ECMWF and ...\n",
      "   🔗 https://community.wmo.int/en/news/eumetnet-launches-ambitious-ai-programme-ecmwf-and-eumetsat-wmo-research-group-enhance-collaboration-strategies\n",
      "------------------------------------------------------------\n",
      "📌 **Result 2:** Artificial Intelligence - Eumetnet\n",
      "   🔗 https://www.eumetnet.eu/forecasting-and-climate/artificial-intelligence/\n",
      "------------------------------------------------------------\n",
      "📌 **Result 3:** EUMETSAT to contribute to European meteorological AI initiative ...\n",
      "   🔗 https://www.eumetsat.int/eumetsat-contribute-european-meteorological-ai-initiative\n",
      "------------------------------------------------------------\n"
     ]
    }
   ],
   "source": [
    "import requests\n",
    "from bs4 import BeautifulSoup\n",
    "import openai\n",
    "\n",
    "# Function to perform a Google Search and return top result URLs\n",
    "def search_google(query, api_key, search_engine_id, num_results=5):\n",
    "    url = f\"https://www.googleapis.com/customsearch/v1?key={api_key}&cx={search_engine_id}&q={query}&num={num_results}\"\n",
    "    response = requests.get(url)\n",
    "\n",
    "    if response.status_code != 200:\n",
    "        print(f\"❌ Error: {response.status_code} - {response.text}\")\n",
    "        return []\n",
    "\n",
    "    data = response.json()\n",
    "    results = []\n",
    "\n",
    "    if \"items\" in data:\n",
    "        print(f\"\\n🔍 Search Results for: '{query}' (Top {num_results})\")\n",
    "        print(\"=\" * 60)\n",
    "\n",
    "        for i, item in enumerate(data[\"items\"], start=1):\n",
    "            title = item.get(\"title\", \"No Title\")\n",
    "            link = item.get(\"link\", \"No Link\")\n",
    "\n",
    "            results.append(link)  # Only store the links for scraping\n",
    "\n",
    "            # Display retrieved links\n",
    "            print(f\"📌 **Result {i}:** {title}\")\n",
    "            print(f\"   🔗 {link}\")\n",
    "            print(\"-\" * 60)\n",
    "\n",
    "    return results\n",
    "\n",
    "# Function to scrape full text from a webpage\n",
    "def scrape_website(url):\n",
    "    try:\n",
    "        response = requests.get(url, headers={\"User-Agent\": \"Mozilla/5.0\"}, timeout=10)\n",
    "        soup = BeautifulSoup(response.text, \"html.parser\")\n",
    "\n",
    "        # Extract paragraphs\n",
    "        paragraphs = soup.find_all(\"p\")\n",
    "        content = \"\\n\".join([p.get_text() for p in paragraphs[:15]])  # Extract first 15 paragraphs\n",
    "\n",
    "        return content if content else \"No content extracted.\"\n",
    "    except Exception as e:\n",
    "        return f\"Failed to scrape {url}: {e}\"\n",
    "\n",
    "# Function to generate an answer using OpenAI API\n",
    "def generate_answer(prompt, llm_api_key):\n",
    "    client = openai.OpenAI(api_key=llm_api_key)\n",
    "    response = client.chat.completions.create(\n",
    "        model=\"gpt-4o-mini\",\n",
    "        messages=[{\"role\": \"system\", \"content\": \"You are a helpful AI assistant.\"},\n",
    "                  {\"role\": \"user\", \"content\": prompt}]\n",
    "    )\n",
    "    return response.choices[0].message.content\n",
    "\n",
    "# Main function that integrates Google Search, Web Scraping, and LLM Answering\n",
    "def answer_from_google(query, api_key, search_engine_id, llm_api_key, num_results=3):\n",
    "    urls = search_google(query, api_key, search_engine_id, num_results)\n",
    "\n",
    "    extracted_content = []\n",
    "    for url in urls:\n",
    "        content = scrape_website(url)\n",
    "        extracted_content.append(f\"\\n--- Source: {url} ---\\n{content}\")\n",
    "\n",
    "    # Combine all extracted content for LLM input\n",
    "    full_text = \"\\n\\n\".join(extracted_content)\n",
    "\n",
    "    prompt = f\"Summarize the following content and answer the question: {query}\\n\\n{full_text}\"\n",
    "\n",
    "    return generate_answer(prompt, llm_api_key)\n",
    "\n",
    "# Example usage:\n",
    "API_KEY = SERPAPI_KEY  # Correct Google API Key\n",
    "SEARCH_ENGINE_ID = search_engine_id  # Custom Search Engine ID\n",
    "\n",
    "query = \"Tell me about EUMETNET Artificial Intelligence Programme\"\n",
    "answer = answer_from_google(query, API_KEY, SEARCH_ENGINE_ID, LLM_API_KEY, num_results=3)"
   ]
  },
  {
   "cell_type": "code",
   "execution_count": 10,
   "metadata": {
    "colab": {
     "base_uri": "https://localhost:8080/",
     "height": 759
    },
    "executionInfo": {
     "elapsed": 21,
     "status": "ok",
     "timestamp": 1744746264939,
     "user": {
      "displayName": "Roland Potthast",
      "userId": "09141136587533247770"
     },
     "user_tz": -120
    },
    "id": "JnsG11BsbmhP",
    "outputId": "14782ba8-d520-4067-f708-66d23b33e7e6"
   },
   "outputs": [
    {
     "data": {
      "text/markdown": [
       "The **EUMETNET Artificial Intelligence (AI) Programme**, launched in January 2024, is a collaborative initiative that brings together 16 National Meteorological and Hydrological Services (NMHSs) within Europe, along with ECMWF (European Centre for Medium-Range Weather Forecasts) and EUMETSAT (European Organisation for the Exploitation of Meteorological Satellites). Managed by Prof. Dr. Roland Potthast from the German National Meteorological Service (DWD), the program spans five years and is structured into three main components focusing on Weather, Climate, and Environmental Applications.\n",
       "\n",
       "Key components of the program include:\n",
       "\n",
       "1. **Data Curation and Products**: Leveraging satellite data and meteorological observations.\n",
       "2. **Analysis, Modelling, and Ensembles**: Involving extensive modeling and forecasting initiatives.\n",
       "3. **Communication and Training**: This includes a series of workshops aimed at fostering collaboration among meteorological services, with the first workshop scheduled for June 5-6, 2024.\n",
       "\n",
       "The program is designed to enhance AI applications in meteorology by exploring innovative techniques that allow for enhanced weather predictions, particularly for complex events, through the rapid analysis of vast amounts of meteorological data. AI and Machine Learning (ML) are seen as tools for creating more accurate and personalized weather forecasts while also enabling advanced simulations for climate modeling.\n",
       "\n",
       "EUMETSAT's involvement particularly focuses on the integration of AI techniques to improve the usage of satellite data, as well as contribute to a culture of openness and collaboration within the meteorological community.\n",
       "\n",
       "### Summary:\n",
       "EUMETNET's AI Programme aims to innovate meteorological applications through collaboration among NMHSs in Europe, leveraging AI and ML for improved weather predictions and analysis. The program focuses on data curation, modeling, and training through workshops to enhance productivity and accuracy in weather services."
      ],
      "text/plain": [
       "<IPython.core.display.Markdown object>"
      ]
     },
     "metadata": {},
     "output_type": "display_data"
    }
   ],
   "source": [
    "display(Markdown(answer))"
   ]
  }
 ],
 "metadata": {
  "colab": {
   "authorship_tag": "ABX9TyMKquuw989zMaFv/Fl+KT6m",
   "provenance": []
  },
  "kernelspec": {
   "display_name": "Python 3 (ipykernel)",
   "language": "python",
   "name": "python3"
  },
  "language_info": {
   "codemirror_mode": {
    "name": "ipython",
    "version": 3
   },
   "file_extension": ".py",
   "mimetype": "text/x-python",
   "name": "python",
   "nbconvert_exporter": "python",
   "pygments_lexer": "ipython3",
   "version": "3.11.11"
  }
 },
 "nbformat": 4,
 "nbformat_minor": 4
}
