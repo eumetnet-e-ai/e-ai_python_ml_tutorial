{
 "cells": [
  {
   "cell_type": "code",
   "execution_count": 5,
   "id": "a6a67773-5abc-4b9c-b7dc-7cf7c8c7c194",
   "metadata": {},
   "outputs": [
    {
     "name": "stdout",
     "output_type": "stream",
     "text": [
      "Constructed filename: icon_global_icosahedral_single-level_2025040500_000_T_2M.grib2.bz2\n",
      "Download URL: https://opendata.dwd.de/weather/nwp/icon/grib/00/t_2m/icon_global_icosahedral_single-level_2025040500_000_T_2M.grib2.bz2\n",
      "100% [..........................................................................] 3945804 / 3945804\n",
      "Downloaded icon_global_icosahedral_single-level_2025040500_000_T_2M.grib2.bz2\n",
      "Decompressed icon_global_icosahedral_single-level_2025040500_000_T_2M.grib2.bz2 to icon_global_icosahedral_single-level_2025040500_000_T_2M.grib2\n",
      "Renamed icon_global_icosahedral_single-level_2025040500_000_T_2M.grib2 to icon_t2m.grib\n"
     ]
    }
   ],
   "source": [
    "import datetime\n",
    "import os\n",
    "import wget\n",
    "import bz2\n",
    "\n",
    "# Construct the filename based on the current UTC date\n",
    "now = datetime.datetime.now(datetime.UTC)\n",
    "filename = f\"icon_global_icosahedral_single-level_{now:%Y%m%d}00_000_T_2M.grib2.bz2\"\n",
    "print(\"Constructed filename:\", filename)\n",
    "\n",
    "# Define the base URL\n",
    "base_url = \"https://opendata.dwd.de/weather/nwp/icon/grib/00/t_2m/\"\n",
    "url = base_url + filename\n",
    "print(\"Download URL:\", url)\n",
    "\n",
    "# Download the .bz2 file using Python wget\n",
    "wget.download(url, filename)\n",
    "print(f\"\\nDownloaded {filename}\")\n",
    "\n",
    "# Decompress the .bz2 file using bz2 module\n",
    "with bz2.open(filename, 'rb') as f_in, open(filename[:-4], 'wb') as f_out:\n",
    "    f_out.write(f_in.read())\n",
    "print(f\"Decompressed {filename} to {filename[:-4]}\")\n",
    "\n",
    "# Rename to a standard name\n",
    "grib_filename = filename[:-4]\n",
    "final_filename = \"icon_t2m.grib\"\n",
    "os.rename(grib_filename, final_filename)\n",
    "print(f\"Renamed {grib_filename} to {final_filename}\")\n"
   ]
  },
  {
   "cell_type": "code",
   "execution_count": 3,
   "id": "cd3dd9bc-c859-4c28-9451-c8ac95534c7a",
   "metadata": {},
   "outputs": [
    {
     "name": "stdout",
     "output_type": "stream",
     "text": [
      "Downloading https://opendata.dwd.de/weather/nwp/icon/grib/00/clat/icon_global_icosahedral_time-invariant_2025040500_CLAT.grib2.bz2 ...\n",
      "100% [..........................................................................] 1687244 / 1687244\n",
      "Downloaded icon_global_icosahedral_time-invariant_2025040500_CLAT.grib2.bz2\n",
      "Decompressed icon_global_icosahedral_time-invariant_2025040500_CLAT.grib2.bz2 to icon_global_icosahedral_time-invariant_2025040500_CLAT.grib2\n",
      "Renamed icon_global_icosahedral_time-invariant_2025040500_CLAT.grib2 to icon_lat.grib\n",
      "Downloading https://opendata.dwd.de/weather/nwp/icon/grib/00/clon/icon_global_icosahedral_time-invariant_2025040500_CLON.grib2.bz2 ...\n",
      "100% [..........................................................................] 2832445 / 2832445\n",
      "Downloaded icon_global_icosahedral_time-invariant_2025040500_CLON.grib2.bz2\n",
      "Decompressed icon_global_icosahedral_time-invariant_2025040500_CLON.grib2.bz2 to icon_global_icosahedral_time-invariant_2025040500_CLON.grib2\n",
      "Renamed icon_global_icosahedral_time-invariant_2025040500_CLON.grib2 to icon_lon.grib\n"
     ]
    }
   ],
   "source": [
    "import re\n",
    "import os\n",
    "import bz2\n",
    "import requests\n",
    "import wget\n",
    "\n",
    "base_url = \"https://opendata.dwd.de/weather/nwp/icon/grib/00/\"\n",
    "clat_path = \"clat/\"\n",
    "clon_path = \"clon/\"\n",
    "\n",
    "# Function to find the latest available timestamp from DWD server\n",
    "def get_latest_timestamp(path):\n",
    "    listing_url = base_url + path\n",
    "    response = requests.get(listing_url)\n",
    "    if response.status_code != 200:\n",
    "        raise RuntimeError(f\"Could not fetch listing: {listing_url}\")\n",
    "    timestamps = re.findall(\n",
    "        r'icon_global_icosahedral_time-invariant_(\\d{10})_CLAT\\.grib2\\.bz2',\n",
    "        response.text\n",
    "    )\n",
    "    return max(timestamps) if timestamps else None\n",
    "\n",
    "# Get the latest available timestamp\n",
    "timestamp = get_latest_timestamp(clat_path)\n",
    "if not timestamp:\n",
    "    raise RuntimeError(\"Could not determine latest timestamp from DWD server.\")\n",
    "\n",
    "files = {\n",
    "    \"clat\": f\"clat/icon_global_icosahedral_time-invariant_{timestamp}_CLAT.grib2.bz2\",\n",
    "    \"clon\": f\"clon/icon_global_icosahedral_time-invariant_{timestamp}_CLON.grib2.bz2\"\n",
    "}\n",
    "\n",
    "rename_map = {\"clat\": \"icon_lat.grib\", \"clon\": \"icon_lon.grib\"}\n",
    "\n",
    "for key, path in files.items():\n",
    "    filename = os.path.basename(path)\n",
    "    url = base_url + path\n",
    "\n",
    "    print(f\"Downloading {url} ...\")\n",
    "    wget.download(url, filename)\n",
    "    print(f\"\\nDownloaded {filename}\")\n",
    "\n",
    "    # Uncompress the .bz2 file\n",
    "    with bz2.open(filename, 'rb') as compressed, open(filename[:-4], 'wb') as out_file:\n",
    "        out_file.write(compressed.read())\n",
    "    print(f\"Decompressed {filename} to {filename[:-4]}\")\n",
    "\n",
    "    # Rename the extracted file\n",
    "    extracted_filename = filename[:-4]  # Remove .bz2\n",
    "    new_filename = rename_map[key]\n",
    "    os.rename(extracted_filename, new_filename)\n",
    "    print(f\"Renamed {extracted_filename} to {new_filename}\")\n"
   ]
  },
  {
   "cell_type": "code",
   "execution_count": 6,
   "id": "1ccab5a3-c52a-410b-83ff-a4b1a5f6cfb8",
   "metadata": {},
   "outputs": [
    {
     "name": "stdout",
     "output_type": "stream",
     "text": [
      " Datentr„ger in Laufwerk C: ist Win1\n",
      " Volumeseriennummer: C402-B37F\n",
      "\n",
      " Verzeichnis von C:\\Users\\rolan\\all\\potthast_d\\e-ai\\ai_tutorial\\code\\code03\n",
      "\n",
      "05/04/2025  17:56    <DIR>          .\n",
      "05/04/2025  16:41    <DIR>          ..\n",
      "05/04/2025  17:45    <DIR>          .ipynb_checkpoints\n",
      "08/03/2025  15:52             3,467 download_latest_grib_definition_dwd.py\n",
      "05/04/2025  17:55            24,820 dwd_open_data_server.ipynb\n",
      "08/03/2025  15:52           519,989 eccodes_definitions.edzw-2.36.0-2.tar.bz2\n",
      "14/03/2025  23:14         1,852,628 eccodes_inspect_file.ipynb\n",
      "05/04/2025  17:56         3,945,804 icon_global_icosahedral_single-level_2025040500_000_T_2M.grib2.bz2\n",
      "05/04/2025  17:55         1,687,244 icon_global_icosahedral_time-invariant_2025040500_CLAT.grib2.bz2\n",
      "05/04/2025  17:55         2,832,445 icon_global_icosahedral_time-invariant_2025040500_CLON.grib2.bz2\n",
      "05/04/2025  17:55             1,714 icon_grid_get.py\n",
      "05/04/2025  17:55         5,898,409 icon_lat.grib\n",
      "05/04/2025  17:55         5,898,409 icon_lon.grib\n",
      "05/04/2025  17:56         5,898,409 icon_t2m.grib\n",
      "08/03/2025  15:52        13,570,776 monAIREP.nc\n",
      "08/03/2025  15:52           945,236 netcdf.ipynb\n",
      "08/03/2025  15:52        16,667,700 synop.nc\n",
      "              14 Datei(en),     59,747,050 Bytes\n",
      "               3 Verzeichnis(se), 424,088,481,792 Bytes frei\n"
     ]
    }
   ],
   "source": [
    "ls"
   ]
  },
  {
   "cell_type": "code",
   "execution_count": null,
   "id": "396f5001-782c-4cb0-abf4-d45082c618a3",
   "metadata": {},
   "outputs": [],
   "source": []
  }
 ],
 "metadata": {
  "kernelspec": {
   "display_name": "Python 3 (ipykernel)",
   "language": "python",
   "name": "python3"
  },
  "language_info": {
   "codemirror_mode": {
    "name": "ipython",
    "version": 3
   },
   "file_extension": ".py",
   "mimetype": "text/x-python",
   "name": "python",
   "nbconvert_exporter": "python",
   "pygments_lexer": "ipython3",
   "version": "3.12.8"
  }
 },
 "nbformat": 4,
 "nbformat_minor": 5
}
