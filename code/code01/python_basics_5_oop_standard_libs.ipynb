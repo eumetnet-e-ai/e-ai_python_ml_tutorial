{
 "cells": [
  {
   "cell_type": "markdown",
   "id": "1d674e0b",
   "metadata": {},
   "source": [
    "### Defining Classes for Earth System Modeling"
   ]
  },
  {
   "cell_type": "code",
   "execution_count": 1,
   "id": "f95e1bbb",
   "metadata": {},
   "outputs": [],
   "source": [
    "class EarthSystemComponent:\n",
    "    def __init__(self, name):\n",
    "        self.name = name\n",
    "\n",
    "    def simulate(self):\n",
    "        raise NotImplementedError(\"This method should be implemented by subclasses\")\n",
    "\n",
    "class Atmosphere(EarthSystemComponent):\n",
    "    def simulate(self):\n",
    "        return f\"Simulating {self.name}: Temperature, pressure, and wind patterns\"\n",
    "\n",
    "class Ocean(EarthSystemComponent):\n",
    "    def simulate(self):\n",
    "        return f\"Simulating {self.name}: Currents, salinity, and sea surface temperatures\"\n",
    "\n",
    "class Land(EarthSystemComponent):\n",
    "    def simulate(self):\n",
    "        return f\"Simulating {self.name}: Soil moisture, vegetation, and surface temperature\""
   ]
  },
  {
   "cell_type": "markdown",
   "id": "5eda28c1",
   "metadata": {},
   "source": [
    "### Building and Running the Earth System Model"
   ]
  },
  {
   "cell_type": "code",
   "execution_count": 2,
   "id": "48eaedf0",
   "metadata": {},
   "outputs": [
    {
     "name": "stdout",
     "output_type": "stream",
     "text": [
      "Simulating Global Atmosphere: Temperature, pressure, and wind patterns\n",
      "Simulating Global Ocean: Currents, salinity, and sea surface temperatures\n",
      "Simulating Global Land: Soil moisture, vegetation, and surface temperature\n"
     ]
    }
   ],
   "source": [
    "class EarthSystemModel:\n",
    "    def __init__(self):\n",
    "        self.components = []\n",
    "\n",
    "    def add_component(self, component):\n",
    "        self.components.append(component)\n",
    "\n",
    "    def run_simulation(self):\n",
    "        for component in self.components:\n",
    "            print(component.simulate())\n",
    "\n",
    "# Instantiate components and run model\n",
    "atmosphere = Atmosphere(\"Global Atmosphere\")\n",
    "ocean = Ocean(\"Global Ocean\")\n",
    "land = Land(\"Global Land\")\n",
    "\n",
    "model = EarthSystemModel()\n",
    "model.add_component(atmosphere)\n",
    "model.add_component(ocean)\n",
    "model.add_component(land)\n",
    "\n",
    "model.run_simulation()"
   ]
  },
  {
   "cell_type": "markdown",
   "id": "683d7346",
   "metadata": {},
   "source": [
    "### Using the os Module"
   ]
  },
  {
   "cell_type": "code",
   "execution_count": 3,
   "id": "0d673567",
   "metadata": {},
   "outputs": [
    {
     "name": "stdout",
     "output_type": "stream",
     "text": [
      "C:\\Users\\rolan\\all\\potthast_d\\e-ai\\ai_tutorial\\code\n"
     ]
    }
   ],
   "source": [
    "import os\n",
    "print(os.getcwd())\n",
    "os.mkdir('new_folder')\n",
    "# os.remove('file.txt')  # Be careful with remove!"
   ]
  },
  {
   "cell_type": "markdown",
   "id": "796e1ba6",
   "metadata": {},
   "source": [
    "### Using the sys Module"
   ]
  },
  {
   "cell_type": "code",
   "execution_count": 4,
   "id": "f77c232e",
   "metadata": {},
   "outputs": [
    {
     "name": "stdout",
     "output_type": "stream",
     "text": [
      "['C:\\\\Users\\\\rolan\\\\all\\\\ropy312\\\\Lib\\\\site-packages\\\\ipykernel_launcher.py', '-f', 'C:\\\\Users\\\\rolan\\\\AppData\\\\Roaming\\\\jupyter\\\\runtime\\\\kernel-b71ec5c6-bc9a-4874-9b47-ee2da767e3f4.json']\n"
     ]
    }
   ],
   "source": [
    "import sys\n",
    "print(sys.argv)\n",
    "# sys.exit(0)  # Exit the program"
   ]
  },
  {
   "cell_type": "markdown",
   "id": "379f4123",
   "metadata": {},
   "source": [
    "### Using the math Module"
   ]
  },
  {
   "cell_type": "code",
   "execution_count": 5,
   "id": "a7841560",
   "metadata": {},
   "outputs": [
    {
     "name": "stdout",
     "output_type": "stream",
     "text": [
      "4.0\n",
      "3.141592653589793\n",
      "120\n"
     ]
    }
   ],
   "source": [
    "import math\n",
    "print(math.sqrt(16))\n",
    "print(math.pi)\n",
    "print(math.factorial(5))"
   ]
  },
  {
   "cell_type": "markdown",
   "id": "078a34c8",
   "metadata": {},
   "source": [
    "### Using the datetime Module"
   ]
  },
  {
   "cell_type": "code",
   "execution_count": 6,
   "id": "568c7e63",
   "metadata": {},
   "outputs": [
    {
     "name": "stdout",
     "output_type": "stream",
     "text": [
      "2025-04-05 13:48:38\n"
     ]
    }
   ],
   "source": [
    "from datetime import datetime\n",
    "now = datetime.now()\n",
    "print(now.strftime(\"%Y-%m-%d %H:%M:%S\"))"
   ]
  },
  {
   "cell_type": "markdown",
   "id": "162f9304",
   "metadata": {},
   "source": [
    "### Using the json Module"
   ]
  },
  {
   "cell_type": "code",
   "execution_count": 7,
   "id": "b2fe326e",
   "metadata": {},
   "outputs": [
    {
     "name": "stdout",
     "output_type": "stream",
     "text": [
      "{\"name\": \"Alice\", \"age\": 30}\n",
      "{'name': 'Alice', 'age': 30}\n"
     ]
    }
   ],
   "source": [
    "import json\n",
    "data = {'name': 'Alice', 'age': 30}\n",
    "json_string = json.dumps(data)\n",
    "print(json_string)\n",
    "print(json.loads(json_string))"
   ]
  }
 ],
 "metadata": {
  "kernelspec": {
   "display_name": "Python 3 (ipykernel)",
   "language": "python",
   "name": "python3"
  },
  "language_info": {
   "codemirror_mode": {
    "name": "ipython",
    "version": 3
   },
   "file_extension": ".py",
   "mimetype": "text/x-python",
   "name": "python",
   "nbconvert_exporter": "python",
   "pygments_lexer": "ipython3",
   "version": "3.12.8"
  }
 },
 "nbformat": 4,
 "nbformat_minor": 5
}
