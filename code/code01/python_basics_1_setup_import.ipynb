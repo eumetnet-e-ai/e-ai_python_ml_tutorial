{
 "cells": [
  {
   "cell_type": "markdown",
   "id": "889c8ffc",
   "metadata": {},
   "source": [
    "### Checking Python and pip versions"
   ]
  },
  {
   "cell_type": "code",
   "execution_count": 1,
   "id": "50cfa9ae",
   "metadata": {},
   "outputs": [
    {
     "name": "stdout",
     "output_type": "stream",
     "text": [
      "Python 3.12.8\n",
      "pip 25.0.1 from C:\\Users\\rolan\\all\\ropy312\\Lib\\site-packages\\pip (python 3.12)\n",
      "\n"
     ]
    }
   ],
   "source": [
    "!python --version\n",
    "!pip --version"
   ]
  },
  {
   "cell_type": "markdown",
   "id": "31e58555",
   "metadata": {},
   "source": [
    "### Creating a Virtual Environment (Windows)"
   ]
  },
  {
   "cell_type": "code",
   "execution_count": 2,
   "id": "46e9578a",
   "metadata": {},
   "outputs": [],
   "source": [
    "#python -m venv myenv\n",
    "#myenv\\Scripts\\activate"
   ]
  },
  {
   "cell_type": "markdown",
   "id": "3d4458e9",
   "metadata": {},
   "source": [
    "### Creating a Virtual Environment (Linux)"
   ]
  },
  {
   "cell_type": "code",
   "execution_count": 3,
   "id": "3a52f46b",
   "metadata": {},
   "outputs": [],
   "source": [
    "#python3 -m venv myenv\n",
    "#source myenv/bin/activate"
   ]
  },
  {
   "cell_type": "markdown",
   "id": "03e4fd5f",
   "metadata": {},
   "source": [
    "### Installing packages with pip"
   ]
  },
  {
   "cell_type": "code",
   "execution_count": 4,
   "id": "9021d63b",
   "metadata": {},
   "outputs": [
    {
     "name": "stdout",
     "output_type": "stream",
     "text": [
      "Requirement already satisfied: numpy in c:\\users\\rolan\\all\\ropy312\\lib\\site-packages (1.26.4)\n",
      "Requirement already satisfied: matplotlib in c:\\users\\rolan\\all\\ropy312\\lib\\site-packages (3.9.1)\n",
      "Requirement already satisfied: contourpy>=1.0.1 in c:\\users\\rolan\\all\\ropy312\\lib\\site-packages (from matplotlib) (1.2.1)\n",
      "Requirement already satisfied: cycler>=0.10 in c:\\users\\rolan\\all\\ropy312\\lib\\site-packages (from matplotlib) (0.12.1)\n",
      "Requirement already satisfied: fonttools>=4.22.0 in c:\\users\\rolan\\all\\ropy312\\lib\\site-packages (from matplotlib) (4.53.1)\n",
      "Requirement already satisfied: kiwisolver>=1.3.1 in c:\\users\\rolan\\all\\ropy312\\lib\\site-packages (from matplotlib) (1.4.5)\n",
      "Requirement already satisfied: numpy>=1.23 in c:\\users\\rolan\\all\\ropy312\\lib\\site-packages (from matplotlib) (1.26.4)\n",
      "Requirement already satisfied: packaging>=20.0 in c:\\users\\rolan\\all\\ropy312\\lib\\site-packages (from matplotlib) (24.1)\n",
      "Requirement already satisfied: pillow>=8 in c:\\users\\rolan\\all\\ropy312\\lib\\site-packages (from matplotlib) (10.4.0)\n",
      "Requirement already satisfied: pyparsing>=2.3.1 in c:\\users\\rolan\\all\\ropy312\\lib\\site-packages (from matplotlib) (3.1.2)\n",
      "Requirement already satisfied: python-dateutil>=2.7 in c:\\users\\rolan\\all\\ropy312\\lib\\site-packages (from matplotlib) (2.9.0.post0)\n",
      "Requirement already satisfied: six>=1.5 in c:\\users\\rolan\\all\\ropy312\\lib\\site-packages (from python-dateutil>=2.7->matplotlib) (1.16.0)\n"
     ]
    }
   ],
   "source": [
    "!pip install numpy\n",
    "!pip install matplotlib"
   ]
  },
  {
   "cell_type": "markdown",
   "id": "c1f3c6b0",
   "metadata": {},
   "source": [
    "### Generating requirements.txt"
   ]
  },
  {
   "cell_type": "code",
   "execution_count": 5,
   "id": "e2420f48",
   "metadata": {},
   "outputs": [],
   "source": [
    "!pip freeze > requirements.txt"
   ]
  },
  {
   "cell_type": "markdown",
   "id": "d87ea0df",
   "metadata": {},
   "source": [
    "### Installing from requirements.txt"
   ]
  },
  {
   "cell_type": "code",
   "execution_count": 6,
   "id": "dd570f90",
   "metadata": {},
   "outputs": [],
   "source": [
    "# uncomment if you want to run, might take time\n",
    "#!pip install -r requirements.txt"
   ]
  },
  {
   "cell_type": "markdown",
   "id": "253af3fb",
   "metadata": {},
   "source": [
    "### Local import from greetings.py"
   ]
  },
  {
   "cell_type": "code",
   "execution_count": 7,
   "id": "029f4410",
   "metadata": {},
   "outputs": [],
   "source": [
    "# greetings.py\n",
    "def say_hello():\n",
    "    print(\"Hello, world!\")"
   ]
  },
  {
   "cell_type": "markdown",
   "id": "3773a0a5",
   "metadata": {},
   "source": [
    "### Using importlib to reload modules"
   ]
  },
  {
   "cell_type": "code",
   "execution_count": 8,
   "id": "40eac8ad",
   "metadata": {},
   "outputs": [
    {
     "name": "stdout",
     "output_type": "stream",
     "text": [
      "Hello Roland\n",
      "Good Morning Roland\n"
     ]
    }
   ],
   "source": [
    "import importlib\n",
    "import reload_demo_fkt as mo\n",
    "\n",
    "def replace_in_file(str1, str2, filename):\n",
    "    with open(filename, 'r') as file:\n",
    "        content = file.read()\n",
    "    content = content.replace(str1, str2)\n",
    "    with open(filename, 'w') as file:\n",
    "        file.write(content)\n",
    "\n",
    "print(mo.greet(\"Roland\"))\n",
    "replace_in_file(\"Hello\", \"Good Morning\", \"reload_demo_fkt.py\")\n",
    "importlib.reload(mo)\n",
    "print(mo.greet(\"Roland\"))\n",
    "replace_in_file(\"Good Morning\", \"Hello\", \"reload_demo_fkt.py\")"
   ]
  }
 ],
 "metadata": {
  "kernelspec": {
   "display_name": "Python 3 (ipykernel)",
   "language": "python",
   "name": "python3"
  },
  "language_info": {
   "codemirror_mode": {
    "name": "ipython",
    "version": 3
   },
   "file_extension": ".py",
   "mimetype": "text/x-python",
   "name": "python",
   "nbconvert_exporter": "python",
   "pygments_lexer": "ipython3",
   "version": "3.12.8"
  }
 },
 "nbformat": 4,
 "nbformat_minor": 5
}
