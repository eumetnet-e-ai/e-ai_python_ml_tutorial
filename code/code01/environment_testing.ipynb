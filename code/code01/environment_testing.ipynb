{
 "cells": [
  {
   "cell_type": "code",
   "execution_count": 2,
   "id": "c1e9b0b2-e929-4f5c-89be-2e88bb16d406",
   "metadata": {},
   "outputs": [
    {
     "name": "stdout",
     "output_type": "stream",
     "text": [
      "{'C:\\\\Users\\\\rolan\\\\all\\\\ropy312\\\\Scripts\\\\python.exe'}\n"
     ]
    }
   ],
   "source": [
    "import sys\n",
    "print({sys.executable})"
   ]
  },
  {
   "cell_type": "code",
   "execution_count": null,
   "id": "108dd9f7-abad-46b3-9c6e-25db466996e4",
   "metadata": {},
   "outputs": [],
   "source": []
  }
 ],
 "metadata": {
  "kernelspec": {
   "display_name": "Python 3 (ipykernel)",
   "language": "python",
   "name": "python3"
  },
  "language_info": {
   "codemirror_mode": {
    "name": "ipython",
    "version": 3
   },
   "file_extension": ".py",
   "mimetype": "text/x-python",
   "name": "python",
   "nbconvert_exporter": "python",
   "pygments_lexer": "ipython3",
   "version": "3.12.8"
  }
 },
 "nbformat": 4,
 "nbformat_minor": 5
}
