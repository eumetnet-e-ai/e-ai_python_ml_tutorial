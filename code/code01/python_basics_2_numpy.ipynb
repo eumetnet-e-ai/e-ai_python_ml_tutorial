{
 "cells": [
  {
   "cell_type": "markdown",
   "id": "92bdbd8c",
   "metadata": {},
   "source": [
    "### Creating NumPy arrays"
   ]
  },
  {
   "cell_type": "code",
   "execution_count": 1,
   "id": "904b276b",
   "metadata": {},
   "outputs": [
    {
     "name": "stdout",
     "output_type": "stream",
     "text": [
      "1D array: [1 2 3 4 5]\n",
      "2D array:\n",
      "[[1 2 3]\n",
      " [4 5 6]]\n"
     ]
    }
   ],
   "source": [
    "import numpy as np\n",
    "arr1 = np.array([1, 2, 3, 4, 5])\n",
    "print(\"1D array:\", arr1)\n",
    "arr2 = np.array([[1, 2, 3], [4, 5, 6]])\n",
    "print(\"2D array:\")\n",
    "print(arr2)"
   ]
  },
  {
   "cell_type": "markdown",
   "id": "42484851",
   "metadata": {},
   "source": [
    "### Vectorized operations"
   ]
  },
  {
   "cell_type": "code",
   "execution_count": 2,
   "id": "f9d513cc",
   "metadata": {},
   "outputs": [
    {
     "name": "stdout",
     "output_type": "stream",
     "text": [
      "Addition: [11 22 33 44 55]\n",
      "Multiplication: [ 10  40  90 160 250]\n"
     ]
    }
   ],
   "source": [
    "a = np.array([1, 2, 3, 4, 5])\n",
    "b = np.array([10, 20, 30, 40, 50])\n",
    "print(\"Addition:\", a + b)\n",
    "print(\"Multiplication:\", a * b)"
   ]
  },
  {
   "cell_type": "markdown",
   "id": "cf495f33",
   "metadata": {},
   "source": [
    "### Predefined arrays"
   ]
  },
  {
   "cell_type": "code",
   "execution_count": 3,
   "id": "c83724a5",
   "metadata": {},
   "outputs": [
    {
     "name": "stdout",
     "output_type": "stream",
     "text": [
      "[[0. 0. 0. 0.]\n",
      " [0. 0. 0. 0.]\n",
      " [0. 0. 0. 0.]]\n",
      "[[1. 1. 1. 1. 1.]\n",
      " [1. 1. 1. 1. 1.]]\n",
      "[0 2 4 6 8]\n",
      "[0.   0.25 0.5  0.75 1.  ]\n"
     ]
    }
   ],
   "source": [
    "print(np.zeros((3, 4)))\n",
    "print(np.ones((2, 5)))\n",
    "print(np.arange(0, 10, 2))\n",
    "print(np.linspace(0, 1, 5))"
   ]
  },
  {
   "cell_type": "markdown",
   "id": "2f3fcac6",
   "metadata": {},
   "source": [
    "### Slicing and indexing"
   ]
  },
  {
   "cell_type": "code",
   "execution_count": 4,
   "id": "0033f1c3",
   "metadata": {},
   "outputs": [
    {
     "name": "stdout",
     "output_type": "stream",
     "text": [
      "Submatrix:\n",
      "[[ 6  7  8]\n",
      " [10 11 12]\n",
      " [14 15 16]]\n",
      "Element at (2,3): 7\n"
     ]
    }
   ],
   "source": [
    "matrix = np.array([[1,2,3,4],[5,6,7,8],[9,10,11,12],[13,14,15,16]])\n",
    "submatrix = matrix[1:4, 1:4]\n",
    "print(\"Submatrix:\")\n",
    "print(submatrix)\n",
    "element = matrix[1,2]\n",
    "print(\"Element at (2,3):\", element)"
   ]
  },
  {
   "cell_type": "markdown",
   "id": "a8152c12",
   "metadata": {},
   "source": [
    "### Broadcasting example"
   ]
  },
  {
   "cell_type": "code",
   "execution_count": 5,
   "id": "87be5c3c",
   "metadata": {},
   "outputs": [
    {
     "name": "stdout",
     "output_type": "stream",
     "text": [
      "Broadcasting result:\n",
      "[[ 0  2  4]\n",
      " [ 3  5  7]\n",
      " [ 6  8 10]]\n"
     ]
    }
   ],
   "source": [
    "mat = np.array([[1,2,3],[4,5,6],[7,8,9]])\n",
    "vec = np.array([1,0,-1])\n",
    "print(\"Broadcasting result:\")\n",
    "print(mat - vec)"
   ]
  },
  {
   "cell_type": "markdown",
   "id": "20bf43ba",
   "metadata": {},
   "source": [
    "### Mathematical functions"
   ]
  },
  {
   "cell_type": "code",
   "execution_count": 6,
   "id": "f1077445",
   "metadata": {},
   "outputs": [
    {
     "name": "stdout",
     "output_type": "stream",
     "text": [
      "Angles: [0.         0.78539816 1.57079633 2.35619449 3.14159265]\n",
      "Sine values: [0.00000000e+00 7.07106781e-01 1.00000000e+00 7.07106781e-01\n",
      " 1.22464680e-16]\n",
      "Exponential values: [1.         2.71828183 7.3890561 ]\n"
     ]
    }
   ],
   "source": [
    "angles = np.linspace(0, np.pi, 5)\n",
    "print(\"Angles:\", angles)\n",
    "print(\"Sine values:\", np.sin(angles))\n",
    "print(\"Exponential values:\", np.exp(np.array([0, 1, 2])))"
   ]
  },
  {
   "cell_type": "code",
   "execution_count": null,
   "id": "42141f49-df7b-4a14-a36d-61373e381e4f",
   "metadata": {},
   "outputs": [],
   "source": []
  }
 ],
 "metadata": {
  "kernelspec": {
   "display_name": "Python 3 (ipykernel)",
   "language": "python",
   "name": "python3"
  },
  "language_info": {
   "codemirror_mode": {
    "name": "ipython",
    "version": 3
   },
   "file_extension": ".py",
   "mimetype": "text/x-python",
   "name": "python",
   "nbconvert_exporter": "python",
   "pygments_lexer": "ipython3",
   "version": "3.12.8"
  }
 },
 "nbformat": 4,
 "nbformat_minor": 5
}
