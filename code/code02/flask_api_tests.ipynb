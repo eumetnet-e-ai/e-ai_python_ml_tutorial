{
 "cells": [
  {
   "cell_type": "markdown",
   "metadata": {},
   "source": [
    "# Flask Server API Test Notebook\n",
    "This notebook tests a locally running Flask server that manages items and file uploads."
   ]
  },
  {
   "cell_type": "code",
   "execution_count": 1,
   "metadata": {},
   "outputs": [],
   "source": [
    "import requests\n",
    "base_url = 'http://127.0.0.1:5000'"
   ]
  },
  {
   "cell_type": "markdown",
   "metadata": {},
   "source": [
    "## GET all items"
   ]
  },
  {
   "cell_type": "code",
   "execution_count": 2,
   "metadata": {},
   "outputs": [
    {
     "name": "stdout",
     "output_type": "stream",
     "text": [
      "GET /items: [{'id': 1, 'name': 'Item 1'}, {'id': 2, 'name': 'Item 2'}]\n"
     ]
    }
   ],
   "source": [
    "response = requests.get(f'{base_url}/items')\n",
    "print(\"GET /items:\", response.json())"
   ]
  },
  {
   "cell_type": "markdown",
   "metadata": {},
   "source": [
    "## GET a specific item"
   ]
  },
  {
   "cell_type": "code",
   "execution_count": 3,
   "metadata": {},
   "outputs": [
    {
     "name": "stdout",
     "output_type": "stream",
     "text": [
      "GET /items/2: {'id': 1, 'name': 'Item 1'}\n"
     ]
    }
   ],
   "source": [
    "response = requests.get(f'{base_url}/items/1')\n",
    "print(\"GET /items/2:\", response.json())"
   ]
  },
  {
   "cell_type": "markdown",
   "metadata": {},
   "source": [
    "## POST a new item"
   ]
  },
  {
   "cell_type": "code",
   "execution_count": 4,
   "metadata": {},
   "outputs": [
    {
     "name": "stdout",
     "output_type": "stream",
     "text": [
      "POST /items: {'id': 3, 'name': 'New Item'}\n"
     ]
    }
   ],
   "source": [
    "new_item = {'name': 'New Item'}\n",
    "response = requests.post(f'{base_url}/items', json=new_item)\n",
    "print(\"POST /items:\", response.json())"
   ]
  },
  {
   "cell_type": "code",
   "execution_count": 5,
   "metadata": {},
   "outputs": [
    {
     "name": "stdout",
     "output_type": "stream",
     "text": [
      "GET /items: [{'id': 1, 'name': 'Item 1'}, {'id': 2, 'name': 'Item 2'}, {'id': 3, 'name': 'New Item'}]\n"
     ]
    }
   ],
   "source": [
    "response = requests.get(f'{base_url}/items')\n",
    "print(\"GET /items:\", response.json())"
   ]
  },
  {
   "cell_type": "markdown",
   "metadata": {},
   "source": [
    "## PUT to update item 1"
   ]
  },
  {
   "cell_type": "code",
   "execution_count": 6,
   "metadata": {},
   "outputs": [
    {
     "name": "stdout",
     "output_type": "stream",
     "text": [
      "PUT /items/1: {'id': 1, 'name': 'Updated Item 1'}\n"
     ]
    }
   ],
   "source": [
    "updated_item = {'name': 'Updated Item 1'}\n",
    "response = requests.put(f'{base_url}/items/1', json=updated_item)\n",
    "print(\"PUT /items/1:\", response.json())"
   ]
  },
  {
   "cell_type": "markdown",
   "metadata": {},
   "source": [
    "## DELETE item 1"
   ]
  },
  {
   "cell_type": "code",
   "execution_count": 7,
   "metadata": {},
   "outputs": [
    {
     "name": "stdout",
     "output_type": "stream",
     "text": [
      "DELETE /items/1: {'result': True}\n"
     ]
    }
   ],
   "source": [
    "response = requests.delete(f'{base_url}/items/1')\n",
    "print(\"DELETE /items/1:\", response.json())"
   ]
  },
  {
   "cell_type": "markdown",
   "metadata": {},
   "source": [
    "## Check items after deletion"
   ]
  },
  {
   "cell_type": "code",
   "execution_count": 8,
   "metadata": {},
   "outputs": [
    {
     "name": "stdout",
     "output_type": "stream",
     "text": [
      "GET /items after deletion: [{'id': 2, 'name': 'Item 2'}, {'id': 3, 'name': 'New Item'}]\n"
     ]
    }
   ],
   "source": [
    "response = requests.get(f'{base_url}/items')\n",
    "print(\"GET /items after deletion:\", response.json())"
   ]
  },
  {
   "cell_type": "markdown",
   "metadata": {},
   "source": [
    "## Upload file for item 2"
   ]
  },
  {
   "cell_type": "code",
   "execution_count": 9,
   "metadata": {},
   "outputs": [
    {
     "name": "stdout",
     "output_type": "stream",
     "text": [
      "POST /items/2/upload: {'file_path': 'uploads\\\\2_example.txt', 'result': 'File uploaded'}\n"
     ]
    }
   ],
   "source": [
    "upload_url = f'{base_url}/items/2/upload'\n",
    "with open('example.txt', 'rb') as f:\n",
    "    files = {'file': f}\n",
    "    response = requests.post(upload_url, files=files)\n",
    "    print(\"POST /items/2/upload:\", response.json())"
   ]
  },
  {
   "cell_type": "markdown",
   "metadata": {},
   "source": [
    "## Download file for item 2"
   ]
  },
  {
   "cell_type": "code",
   "execution_count": 10,
   "metadata": {},
   "outputs": [
    {
     "name": "stdout",
     "output_type": "stream",
     "text": [
      "File downloaded successfully and saved as downloaded_example.txt\n"
     ]
    }
   ],
   "source": [
    "download_url = f'{base_url}/items/2/download'\n",
    "response = requests.get(download_url, stream=True)\n",
    "if response.status_code == 200:\n",
    "    with open('downloaded_example.txt', 'wb') as f:\n",
    "        for chunk in response.iter_content(chunk_size=8192):\n",
    "            f.write(chunk)\n",
    "    print(\"File downloaded successfully and saved as downloaded_example.txt\")\n",
    "else:\n",
    "    print(\"Failed to download file, status code:\", response.status_code)"
   ]
  },
  {
   "cell_type": "code",
   "execution_count": null,
   "metadata": {},
   "outputs": [],
   "source": []
  }
 ],
 "metadata": {
  "kernelspec": {
   "display_name": "Python 3 (ipykernel)",
   "language": "python",
   "name": "python3"
  },
  "language_info": {
   "codemirror_mode": {
    "name": "ipython",
    "version": 3
   },
   "file_extension": ".py",
   "mimetype": "text/x-python",
   "name": "python",
   "nbconvert_exporter": "python",
   "pygments_lexer": "ipython3",
   "version": "3.12.8"
  }
 },
 "nbformat": 4,
 "nbformat_minor": 4
}
