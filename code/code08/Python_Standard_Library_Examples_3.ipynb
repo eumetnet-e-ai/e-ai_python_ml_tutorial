{
 "cells": [
  {
   "cell_type": "markdown",
   "id": "a98e0ab0",
   "metadata": {},
   "source": [
    "# Python Standard Library: Advanced Examples (Part 3)"
   ]
  },
  {
   "cell_type": "markdown",
   "id": "6f800eb0",
   "metadata": {},
   "source": [
    "## tempfile — Temporary Files and Directories"
   ]
  },
  {
   "cell_type": "code",
   "execution_count": 2,
   "id": "979c8688",
   "metadata": {},
   "outputs": [
    {
     "name": "stdout",
     "output_type": "stream",
     "text": [
      "Temp file content: Temporary data from DWD\n"
     ]
    }
   ],
   "source": [
    "import tempfile\n",
    "\n",
    "with tempfile.TemporaryFile(mode='w+t') as temp:\n",
    "    temp.write(\"Temporary data from DWD\")\n",
    "    temp.seek(0)\n",
    "    print(\"Temp file content:\", temp.read())"
   ]
  },
  {
   "cell_type": "markdown",
   "id": "5d51fcb4",
   "metadata": {},
   "source": [
    "## logging — Logging Facilities"
   ]
  },
  {
   "cell_type": "code",
   "execution_count": 3,
   "id": "9f9c4887",
   "metadata": {},
   "outputs": [
    {
     "name": "stderr",
     "output_type": "stream",
     "text": [
      "INFO:root:This is an informational message.\n"
     ]
    }
   ],
   "source": [
    "import logging\n",
    "\n",
    "logging.basicConfig(level=logging.INFO)\n",
    "logging.info(\"This is an informational message.\")"
   ]
  },
  {
   "cell_type": "markdown",
   "id": "4a93529d",
   "metadata": {},
   "source": [
    "## shutil — File Operations"
   ]
  },
  {
   "cell_type": "code",
   "execution_count": 9,
   "id": "37ca511d",
   "metadata": {},
   "outputs": [
    {
     "name": "stdout",
     "output_type": "stream",
     "text": [
      "File copied, contents:\n",
      "hello, good morning\n"
     ]
    }
   ],
   "source": [
    "import shutil\n",
    "from pathlib import Path\n",
    "Path(\"example.txt\").write_text(\"hello, good morning\")\n",
    "\n",
    "# Copy a file (example.txt must exist)\n",
    "shutil.copy(\"example.txt\", \"example_copy.txt\")\n",
    "print(\"File copied, contents:\")\n",
    "with open(\"example_copy.txt\", \"r\") as f:\n",
    "    content = f.read()\n",
    "    print(content)"
   ]
  },
  {
   "cell_type": "markdown",
   "id": "8527ed1c",
   "metadata": {},
   "source": [
    "## threading — Concurrency with Threads"
   ]
  },
  {
   "cell_type": "code",
   "execution_count": 10,
   "id": "e965be42",
   "metadata": {},
   "outputs": [
    {
     "name": "stdout",
     "output_type": "stream",
     "text": [
      "Hello from thread\n"
     ]
    }
   ],
   "source": [
    "import threading\n",
    "\n",
    "def print_hello():\n",
    "    print(\"Hello from thread\")\n",
    "\n",
    "thread = threading.Thread(target=print_hello)\n",
    "thread.start()\n",
    "thread.join()"
   ]
  },
  {
   "cell_type": "markdown",
   "id": "acb84326",
   "metadata": {},
   "source": [
    "## multiprocessing — Parallel Execution"
   ]
  },
  {
   "cell_type": "code",
   "execution_count": 12,
   "id": "028c5a6f",
   "metadata": {},
   "outputs": [
    {
     "name": "stdout",
     "output_type": "stream",
     "text": [
      "Worker process 1 running\n",
      "Worker process 2 running\n",
      "Worker process 0 running\n",
      "Worker process 3 running\n",
      "Worker process 4 running\n"
     ]
    }
   ],
   "source": [
    "from multiprocessing import Process\n",
    "\n",
    "def worker(n):\n",
    "    print(f\"Worker process {n} running\")\n",
    "\n",
    "processes = []\n",
    "\n",
    "for i in range(5):\n",
    "    p = Process(target=worker, args=(i,))\n",
    "    p.start()\n",
    "    processes.append(p)\n",
    "\n",
    "for p in processes:\n",
    "    p.join()\n"
   ]
  },
  {
   "cell_type": "markdown",
   "id": "86657614",
   "metadata": {},
   "source": [
    "## asyncio — Asynchronous Programming"
   ]
  },
  {
   "cell_type": "code",
   "execution_count": 13,
   "id": "016ea7f2",
   "metadata": {},
   "outputs": [
    {
     "name": "stdout",
     "output_type": "stream",
     "text": [
      "Start\n",
      "End\n"
     ]
    }
   ],
   "source": [
    "import asyncio\n",
    "\n",
    "async def main():\n",
    "    print(\"Start\")\n",
    "    await asyncio.sleep(1)\n",
    "    print(\"End\")\n",
    "\n",
    "await main()"
   ]
  },
  {
   "cell_type": "markdown",
   "id": "0cdfd178",
   "metadata": {},
   "source": [
    "## http — HTTP Utilities"
   ]
  },
  {
   "cell_type": "code",
   "execution_count": 17,
   "id": "6a41d8e9",
   "metadata": {},
   "outputs": [
    {
     "data": {
      "text/html": [
       "<!DOCTYPE html>\n",
       "<html lang=\"en\">\n",
       "<head>\n",
       "    <meta http-equiv=\"Content-Type\" content=\"text/html; charset=utf-8\">\n",
       "    <meta charset=\"utf-8\">\n",
       "    <meta name=\"viewport\" content=\"width=device-width\" />\n",
       "    <link rel=\"icon\" href=\"LOGO_eumetnet_favicon.png\" sizes=\"32x32\" />\n",
       "    <link rel=\"icon\" href=\"LOGO_eumetnet_favicon.png\" sizes=\"192x192\" />\n",
       "    <link rel=\"apple-touch-icon\" href=\"LOGO_eumetnet_favicon.png\" />\n",
       "    <meta name=\"msapplication-TileImage\" content=\"LOGO_eumetnet_favicon.png\" />\n",
       "    <title>EUMETNET E-AI Summer Workshop: Products and Services, July 7 – July 11 2025, Frankfurt/Offenbach, Germany</title>\n",
       "    <style>\n",
       "        /* Add some basic styling to get us started */\n",
       "        body {\n",
       "            font-family: \"PT Sans\", sans-serif;\n",
       "            margin: 0;\n",
       "            padding: 0;\n",
       "            background-color: #eff0f1;\n",
       "        }\n",
       "\n",
       "        #topbar{\n",
       "            width: 100%;\n",
       "            background-color: #fff;\n",
       "            padding: 40px 0;\n",
       "        }\n",
       "        #topbar .logo-wrapper {\n",
       "            height: 80px;\n",
       "            display:flex;\n",
       "            flex-direction:column;\n",
       "            justify-content:center;\n",
       "            text-align:center;\n",
       "        }\n",
       "        #topbar .container {\n",
       "            display: flex;\n",
       "            justify-content: space-between;\n",
       "            gap: 30px;\n",
       "\n",
       "        }\n",
       "        #topbar .logo-wrapper img{\n",
       "            max-width: 100%;\n",
       "            max-height: 100%;\n",
       "        }\n",
       "\n",
       "        header, footer {\n",
       "            color: #fff;\n",
       "            padding: 20px 0;\n",
       "        }\n",
       "        header {\n",
       "            background-color: rgb(147, 147, 147);\n",
       "        }\n",
       "\n",
       "        header h1 {\n",
       "            margin: 0;\n",
       "        }\n",
       "\n",
       "        section {\n",
       "            padding: 1em 0;\n",
       "        }\n",
       "        section:nth-child(even){\n",
       "            background-color: #dfe0e1;\n",
       "        }\n",
       "\n",
       "        footer{\n",
       "            background-color: #00758A;\n",
       "            flex-grow: 1;\n",
       "        }\n",
       "\n",
       "        .container{\n",
       "            max-width: clamp(0px, 100vw, 700px);\n",
       "            margin: 0px auto;\n",
       "            padding: 0 30px;\n",
       "        }\n",
       "\n",
       "        a, a:hover, a:active{\n",
       "            color: inherit;\n",
       "            text-decoration: underline;\n",
       "        }\n",
       "        a:hover, a:active {\n",
       "            text-decoration: none;\n",
       "        }\n",
       "\n",
       "        /* Style for links */\n",
       "        a.arrow{\n",
       "            color: #2c3e50;\n",
       "            text-decoration: underline;\n",
       "            position: relative;\n",
       "            padding-left: 20px;\n",
       "            transition: all 0.3s ease;\n",
       "        }\n",
       "\n",
       "        /* Add arrow using pseudo-element */\n",
       "        a.arrow::before{\n",
       "            content: '→';\n",
       "            position: absolute;\n",
       "            left: 0;\n",
       "            color: #e74c3c;\n",
       "            font-weight: bold;\n",
       "            transition: left 0.3s ease;\n",
       "        }\n",
       "\n",
       "        /* Change arrow on hover */\n",
       "        a.arrow:hover::before{\n",
       "            color: #2ecc71;\n",
       "            left: 5px;\n",
       "        }\n",
       "\n",
       "        /* Optional: Style for visited links */\n",
       "        a.arrow:visited{\n",
       "            color: #7f8c8d;\n",
       "        }\n",
       "\n",
       "        /* Optional: Style for active links */\n",
       "        a.arrow:active{\n",
       "            color: #e74c3c;\n",
       "        }\n",
       "\n",
       "        /* Optional: Style for hover on the entire link */\n",
       "        a.arrow:hover{\n",
       "            color: #2ecc71;\n",
       "            text-decoration: underline;\n",
       "        }\n",
       "\n",
       "        iframe {\n",
       "            border: none;\n",
       "            max-width:100%;\n",
       "            height: 40em;\n",
       "            max-height:90vh;\n",
       "            width: 100%;\n",
       "        }\n",
       "        li {\n",
       "            margin-bottom: 0.2em;\n",
       "        }\n",
       "\n",
       "        /* Container for the two images */\n",
       "        @media only screen and (max-width: 700px) {\n",
       "            .image-container {\n",
       "                /*flex-direction: column;*/\n",
       "            }\n",
       "        }\n",
       "       .image-container {\n",
       "            display: flex;\n",
       "            justify-content: space-between;\n",
       "            gap: 20px;\n",
       "            max-width: 1200px;\n",
       "            margin: 40px auto;\n",
       "            padding: 0 20px;\n",
       "        }\n",
       "\n",
       "        /* Individual image container */\n",
       "        .image-box {\n",
       "            flex: 1;\n",
       "            background: #f8f8f8;\n",
       "            border-radius: 15px;\n",
       "            overflow: hidden;\n",
       "            box-shadow: 0 4px 6px rgba(0, 0, 0, 0.1);\n",
       "        }\n",
       "\n",
       "        /* Image styling */\n",
       "        .image-box img {\n",
       "            width: 100%;\n",
       "            height: 200px;\n",
       "            object-fit: cover;\n",
       "            border-radius: 10px;\n",
       "            min-width: 300px;\n",
       "        }\n",
       "\n",
       "        /* Caption styling */\n",
       "        .caption {\n",
       "            padding: 5px;\n",
       "            text-align: center;\n",
       "            font-size: 0.8em;\n",
       "            color: #333;\n",
       "            background: #fff;\n",
       "        }\n",
       "        .map {\n",
       "            display: block;\n",
       "            width: 100%;\n",
       "            overflow: hidden;\n",
       "\n",
       "        }\n",
       "        .map img {\n",
       "            object-fit: cover;\n",
       "            object-position: center;\n",
       "            height: 600px;\n",
       "            max-height: 80vh;\n",
       "            width: 100%;\n",
       "        }\n",
       "\n",
       "    </style>\n",
       "\n",
       "</head>\n",
       "<body>\n",
       "    <div id=\"topbar\">\n",
       "        <div class=\"container\">\n",
       "            <div class=\"logo-wrapper\">\n",
       "                <img src=\"EUMETNETLogo_FullColourSquare.png\" alt=\"EUMETNET Logo\">\n",
       "            </div>\n",
       "            <div class=\"logo-wrapper\">\n",
       "                <img src=\"dwd_logo.svg\" alt=\"DWD Logo\">\n",
       "            </div>\n",
       "        </div>\n",
       "    </div>\n",
       "    <header>\n",
       "        <div class=\"container\">\n",
       "            <h1>EUMETNET E-AI Summer Workshop 2025<br>Products and Services</h1>\n",
       "            <p>July 7 – July 11 2025 <a class=\"arrow\" href=\"#Registration\" target=\"_blank\">Registration</a></p>\n",
       "        </div>\n",
       "    </header>\n",
       "\n",
       "    <main>\n",
       "        <section style=\"padding-bottom: 0;\">\n",
       "            <div class=\"impressions\">\n",
       "                <div class=\"image-container\">\n",
       "                    <div class=\"image-box\">\n",
       "                        <img src=\"25841.jpeg\" alt=\"DWD Headquarters. Picture by Uwe Kirsche / Deutscher Wetterdienst (DWD)\">\n",
       "                        <div class=\"caption\">DWD Headquarters. Picture by Uwe Kirsche / Deutscher Wetterdienst (DWD)</div>\n",
       "                    </div>\n",
       "\n",
       "                    <div class=\"image-box\">\n",
       "                        <img src=\"25524.jpeg\" alt=\"Frankfurt – affected by high-impact weather event. Picture by Steffen Kothe / Deutscher Wetterdienst (DWD)\">\n",
       "                        <div class=\"caption\">High impact weather in Frankfurt. Picture by Steffen Kothe / Deutscher Wetterdienst (DWD)</div>\n",
       "                    </div>\n",
       "\n",
       "                    <div class=\"image-box\">\n",
       "                        <img src=\"conference.jpg\" alt=\"High impact weather in Frankfurt. Picture by Steffen Kothe / Deutscher Wetterdienst (DWD)\">\n",
       "                        <div class=\"caption\">DWD Conference area. Picture by Roland Potthast / Deutscher Wetterdienst (DWD)</div>\n",
       "                    </div>\n",
       "                </div>\n",
       "            </div>\n",
       "            <div class=\"container\">\n",
       "                <p>\n",
       "                    From <b>July 7 to 11, 2025</b>, the E-AI community meets in Offenbach for its Summer Workshop.\n",
       "                    The meeting creates a space for exchange, for learning AI/ML techniques and applications, to allow intensive interaction between the E-AI working groups and to on-board further scientists and collaborators into <a class=\"arrow\" href=\"https://www.eumetnet.eu/forecasting-and-climate/artificial-intelligence/\" title=\"E-AI Programme description\" target=\"_blank\">the E-AI programme</a>.\n",
       "                </p>\n",
       "                <p>\n",
       "                    The primary objective of the workshop is to promote collaboration among organisations and individuals, with a view to developing common products and services in line with the E-AI principles. The workshop will feature tutorials and plenary sessions, organised around the activities of the E-AI working groups.\n",
       "\n",
       "                </p>\n",
       "                <p>\n",
       "                    The E-AI Summer Workshop will take place at the DWD Headquarters in Offenbach, Germany.\n",
       "                </p>\n",
       "                <p>\n",
       "                    Monday, 7 July, is allocated for community-led AI/ML tutorials. The following days, Tuesday to Thursday, 8-10 July, will be dedicated to working group sessions in plenary. Friday, 11 July, is available for individual working group and side meetings.<br>\n",
       "                    A  <a class=\"arrow\" href=\"EAI_Summer_WS_Agenda_Draft_2025-04-04.pdf\" target=\"_blank\">draft agenda is available (as of 31 March 2025)</a>, although the details are still subject to discussion with the working groups and other stakeholders.\n",
       "                </p>\n",
       "\n",
       "            </div>\n",
       "            <a href=\"https://osm.org/go/0D0ahLAl--?layers=T\" class=\"map\" target=\"_blank\" style=\"line-height: 0;\">\n",
       "                <img src=\"map.jpg\" alt=\"Location of the DWD Headquarters on a map with Offenbach and Frankfurt. © OpenStreetMap contributors. Tiles style by Humanitarian OpenStreetMap Team.\">\n",
       "            </a>\n",
       "        </section>\n",
       "        <section>\n",
       "\n",
       "            <div class=\"container\">\n",
       "                <h2 id=\"Registration\">Registration</h2>\n",
       "                <p>Please use the below form to register for the workshop. As participating in the workshop is free of charge, the lunches will be self paid.</p>\n",
       "                <p>Registration Deadline: <b>Monday 9 June, 2025</b></p>\n",
       "                <iframe src=\"https://forms.office.com/e/f7gw5tVkWa?embed=true\" frameborder=\"0\" marginwidth=\"0\" marginheight=\"0\" allowfullscreen webkitallowfullscreen mozallowfullscreen msallowfullscreen> </iframe>\n",
       "            </div>\n",
       "        </section>\n",
       "        <section>\n",
       "            <div class=\"container\">\n",
       "                <h2>Accommodation</h2>\n",
       "                <p>Participants are kindly requested to make their own hotel accommodation bookings. Hotels located close to DWD Headquarters are the following:</p>\n",
       "                <ul>\n",
       "                    <li><a class=\"ExternalLink\" href=\"https://www.bestwestern.de/hotels/Offenbach/Best-Western-Macrander-Hotel-Frankfurt-Kaiserlei/hotel\" target=\"_blank\" rel=\"noopener noreferrer\" title=\"Best Western Macrander Hotel Frankfurt/Kaiserlei (Opens in new window)\">Best Western Macrander Hotel Frankfurt/Kaiserlei, Strahlenberger Straße 12</a></li>\n",
       "                    <li><a class=\"ExternalLink\" href=\"https://www.hotel-bb.com/de/hotel/offenbach-kaiserlei\" target=\"_blank\" rel=\"noopener noreferrer\" title=\"B&B Hotel Offenbach-Kaiserlei (Opens in new window)\">B&B Hotel Offenbach-Kaiserlei, Kaiserleistraße 4</a></li>\n",
       "                    <li><a class=\"ExternalLink\" href=\"https://www.ihg.com/holidayinnexpress/hotels/us/en/offenbach/zozob/hoteldetail\" target=\"_blank\" rel=\"noopener noreferrer\" title=\"Holiday Inn Express (Opens in new window)\">Holiday Inn Express, Berliner Straße 174</a></li>\n",
       "                    <li><a class=\"ExternalLink\" href=\"https://www.rioca.eu/location/apartment-hotel-offenbach/\" target=\"_blank\" rel=\"noopener noreferrer\" title=\"Rioca Hafeninsel  (Opens in new window)\">Apartment Hotel Offenbach | Rioca Hafeninsel, Hafeninsel 29</a></li>\n",
       "                    <li><a class=\"ExternalLink\" href=\"https://www.offenbach.de/gaeste/hotels/subrubrik-hotels.php\" target=\"_blank\" rel=\"noopener noreferrer\" title=\"more hotels in Offenbach (Opens in new window)\">Other hotels in Offenbach and surroundings</a></li>\n",
       "                </ul>\n",
       "            </div>\n",
       "        </section>\n",
       "        <section>\n",
       "            <div class=\"container\">\n",
       "                <h2>Contact</h2>\n",
       "                <p>If you have any questions or comments, please do not hesitate to contact the E-AI Programme coordinator under marek.jacob ät eumetnet.eu</p>\n",
       "\n",
       "            </div>\n",
       "        </section>\n",
       "\n",
       "    </main>\n",
       "\n",
       "    <footer>\n",
       "        <div class=\"container\">\n",
       "            <a href=\"https://www.eumetnet.eu/legal-information/\">EUMETNET Legal Information</a>\n",
       "        </div>\n",
       "    </footer>\n",
       "\n",
       "</body>\n",
       "</html>\n",
       "\n"
      ],
      "text/plain": [
       "<IPython.core.display.HTML object>"
      ]
     },
     "metadata": {},
     "output_type": "display_data"
    }
   ],
   "source": [
    "from urllib.request import urlopen\n",
    "from IPython.display import HTML, display\n",
    "\n",
    "url = \"https://eumetnet-ai.eu/2025/workshop3\"\n",
    "\n",
    "try:\n",
    "    with urlopen(url) as response:\n",
    "        html = response.read().decode(\"utf-8\")\n",
    "        display(HTML(html))  # Render the HTML in the notebook\n",
    "except Exception as e:\n",
    "    print(\"Failed to fetch URL:\", e)"
   ]
  },
  {
   "cell_type": "markdown",
   "id": "2cc8dcf8",
   "metadata": {},
   "source": [
    "## urllib — URL Handling"
   ]
  },
  {
   "cell_type": "code",
   "execution_count": 18,
   "id": "18985e33",
   "metadata": {},
   "outputs": [
    {
     "name": "stdout",
     "output_type": "stream",
     "text": [
      "<!doctype html>\n",
      "<html>\n",
      "<head>\n",
      "    <title>Example Domain</title>\n",
      "\n",
      "    <meta charset=\"utf-8\" />\n",
      "    <meta http-equiv=\"Content-type\" content=\"text/html; charset=utf-8\" />\n",
      "    <meta name=\"viewport\" conten\n"
     ]
    }
   ],
   "source": [
    "from urllib.request import urlopen\n",
    "\n",
    "with urlopen('https://example.com') as response:\n",
    "    html = response.read().decode('utf-8')\n",
    "    print(html[:200])  # Print first 200 characters"
   ]
  },
  {
   "cell_type": "markdown",
   "id": "ce501ed6",
   "metadata": {},
   "source": [
    "## sqlite3 — Embedded SQL Database"
   ]
  },
  {
   "cell_type": "code",
   "execution_count": 19,
   "id": "8210249c",
   "metadata": {},
   "outputs": [
    {
     "name": "stdout",
     "output_type": "stream",
     "text": [
      "(1, 'Alice')\n"
     ]
    }
   ],
   "source": [
    "import sqlite3\n",
    "\n",
    "conn = sqlite3.connect(':memory:')\n",
    "c = conn.cursor()\n",
    "c.execute('CREATE TABLE users (id INTEGER PRIMARY KEY, name TEXT)')\n",
    "c.execute('INSERT INTO users (name) VALUES (?)', ('Alice',))\n",
    "conn.commit()\n",
    "for row in c.execute('SELECT * FROM users'):\n",
    "    print(row)\n",
    "conn.close()"
   ]
  },
  {
   "cell_type": "code",
   "execution_count": null,
   "id": "c5b6290e-fa4d-4d1f-9032-b2eaa8f3c0b2",
   "metadata": {},
   "outputs": [],
   "source": []
  }
 ],
 "metadata": {
  "kernelspec": {
   "display_name": "Python 3 (ipykernel)",
   "language": "python",
   "name": "python3"
  },
  "language_info": {
   "codemirror_mode": {
    "name": "ipython",
    "version": 3
   },
   "file_extension": ".py",
   "mimetype": "text/x-python",
   "name": "python",
   "nbconvert_exporter": "python",
   "pygments_lexer": "ipython3",
   "version": "3.11.11"
  }
 },
 "nbformat": 4,
 "nbformat_minor": 5
}
