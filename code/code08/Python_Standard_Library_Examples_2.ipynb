{
 "cells": [
  {
   "cell_type": "markdown",
   "id": "f48a1a52",
   "metadata": {},
   "source": [
    "# Python Standard Library: Extended Examples"
   ]
  },
  {
   "cell_type": "markdown",
   "id": "5c7c0280",
   "metadata": {},
   "source": [
    "## os — Operating System Interface"
   ]
  },
  {
   "cell_type": "code",
   "execution_count": 1,
   "id": "8186d288",
   "metadata": {},
   "outputs": [
    {
     "name": "stdout",
     "output_type": "stream",
     "text": [
      "Current Directory: /media/nas/uwork1/rpotthas/e-ai_python_ml_tutorial/code/code08\n",
      "Created demo_dir\n",
      "Removed demo_dir\n"
     ]
    }
   ],
   "source": [
    "import os\n",
    "\n",
    "# Get current working directory\n",
    "print(\"Current Directory:\", os.getcwd())\n",
    "\n",
    "# Create and remove a directory\n",
    "os.mkdir(\"demo_dir\")\n",
    "print(\"Created demo_dir\")\n",
    "os.rmdir(\"demo_dir\")\n",
    "print(\"Removed demo_dir\")"
   ]
  },
  {
   "cell_type": "markdown",
   "id": "55b5e10d",
   "metadata": {},
   "source": [
    "## sys — System-specific Parameters and Functions"
   ]
  },
  {
   "cell_type": "code",
   "execution_count": 2,
   "id": "9d330715",
   "metadata": {},
   "outputs": [
    {
     "name": "stdout",
     "output_type": "stream",
     "text": [
      "Python version: 3.11.11 (main, Dec 06 2024, 17:06:18) [GCC]\n",
      "Platform: linux\n",
      "Command-line arguments: ['/media/nas/uwork1/rpotthas/ropy/lib64/python3.11/site-packages/ipykernel_launcher.py', '-f', '/home/rpotthas/.local/share/jupyter/runtime/kernel-b82c9957-529a-48d5-b43a-ed39e9e7fc07.json']\n"
     ]
    }
   ],
   "source": [
    "import sys\n",
    "\n",
    "print(\"Python version:\", sys.version)\n",
    "print(\"Platform:\", sys.platform)\n",
    "print(\"Command-line arguments:\", sys.argv)"
   ]
  },
  {
   "cell_type": "markdown",
   "id": "e488f5b7",
   "metadata": {},
   "source": [
    "## math — Mathematical Functions"
   ]
  },
  {
   "cell_type": "code",
   "execution_count": 3,
   "id": "11d4610b",
   "metadata": {},
   "outputs": [
    {
     "name": "stdout",
     "output_type": "stream",
     "text": [
      "Pi: 3.141592653589793\n",
      "Cosine of pi: -1.0\n",
      "Factorial of 5: 120\n"
     ]
    }
   ],
   "source": [
    "import math\n",
    "\n",
    "print(\"Pi:\", math.pi)\n",
    "print(\"Cosine of pi:\", math.cos(math.pi))\n",
    "print(\"Factorial of 5:\", math.factorial(5))"
   ]
  },
  {
   "cell_type": "markdown",
   "id": "d3617f17",
   "metadata": {},
   "source": [
    "## random — Random Numbers"
   ]
  },
  {
   "cell_type": "code",
   "execution_count": 4,
   "id": "8eed12f0",
   "metadata": {},
   "outputs": [
    {
     "name": "stdout",
     "output_type": "stream",
     "text": [
      "Random float: 0.8952106920542772\n",
      "Random integer (1–10): 8\n",
      "Choice from list: banana\n"
     ]
    }
   ],
   "source": [
    "import random\n",
    "\n",
    "print(\"Random float:\", random.random())\n",
    "print(\"Random integer (1–10):\", random.randint(1, 10))\n",
    "print(\"Choice from list:\", random.choice(['apple', 'banana', 'cherry']))"
   ]
  },
  {
   "cell_type": "markdown",
   "id": "346e1777",
   "metadata": {},
   "source": [
    "## datetime — Date and Time"
   ]
  },
  {
   "cell_type": "code",
   "execution_count": 5,
   "id": "7014834a",
   "metadata": {},
   "outputs": [
    {
     "name": "stdout",
     "output_type": "stream",
     "text": [
      "Current time: 2025-04-16 08:31:27.367676\n",
      "One week from now: 2025-04-23 08:31:27.367676\n"
     ]
    }
   ],
   "source": [
    "from datetime import datetime, timedelta\n",
    "\n",
    "now = datetime.now()\n",
    "print(\"Current time:\", now)\n",
    "print(\"One week from now:\", now + timedelta(weeks=1))"
   ]
  },
  {
   "cell_type": "markdown",
   "id": "60c5eeee",
   "metadata": {},
   "source": [
    "## collections — Specialized Containers"
   ]
  },
  {
   "cell_type": "code",
   "execution_count": 6,
   "id": "37702285",
   "metadata": {},
   "outputs": [
    {
     "name": "stdout",
     "output_type": "stream",
     "text": [
      "NamedTuple Point: Point(x=3, y=4)\n",
      "DefaultDict value: 1\n"
     ]
    }
   ],
   "source": [
    "from collections import namedtuple, defaultdict\n",
    "\n",
    "Point = namedtuple('Point', ['x', 'y'])\n",
    "p = Point(3, 4)\n",
    "print(\"NamedTuple Point:\", p)\n",
    "\n",
    "default_dict = defaultdict(int)\n",
    "default_dict['missing'] += 1\n",
    "print(\"DefaultDict value:\", default_dict['missing'])"
   ]
  },
  {
   "cell_type": "markdown",
   "id": "eb538383",
   "metadata": {},
   "source": [
    "## itertools — Efficient Iteration"
   ]
  },
  {
   "cell_type": "code",
   "execution_count": 8,
   "id": "0b6fab97",
   "metadata": {},
   "outputs": [
    {
     "name": "stdout",
     "output_type": "stream",
     "text": [
      "First three values from counter: [1, 3, 5, 7, 9, 11, 13, 15, 17, 19, 21, 23, 25, 27, 29]\n"
     ]
    }
   ],
   "source": [
    "import itertools\n",
    "\n",
    "# Infinite counter\n",
    "counter = itertools.count(start=1, step=2)\n",
    "print(\"First three values from counter:\", [next(counter) for _ in range(15)])"
   ]
  },
  {
   "cell_type": "markdown",
   "id": "74c48c47",
   "metadata": {},
   "source": [
    "## functools — Higher-order Functions"
   ]
  },
  {
   "cell_type": "code",
   "execution_count": null,
   "id": "69abe5e7",
   "metadata": {},
   "outputs": [],
   "source": [
    "from functools import lru_cache\n",
    "\n",
    "@lru_cache(maxsize=32)\n",
    "def fib(n):\n",
    "    if n < 2:\n",
    "        return n\n",
    "    return fib(n-1) + fib(n-2)\n",
    "\n",
    "print(\"Fibonacci(10):\", fib(10))"
   ]
  }
 ],
 "metadata": {
  "kernelspec": {
   "display_name": "Python 3 (ipykernel)",
   "language": "python",
   "name": "python3"
  },
  "language_info": {
   "codemirror_mode": {
    "name": "ipython",
    "version": 3
   },
   "file_extension": ".py",
   "mimetype": "text/x-python",
   "name": "python",
   "nbconvert_exporter": "python",
   "pygments_lexer": "ipython3",
   "version": "3.11.11"
  }
 },
 "nbformat": 4,
 "nbformat_minor": 5
}
