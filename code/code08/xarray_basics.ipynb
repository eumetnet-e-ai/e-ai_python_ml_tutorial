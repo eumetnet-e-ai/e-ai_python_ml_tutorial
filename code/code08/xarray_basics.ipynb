{
 "cells": [
  {
   "cell_type": "markdown",
   "id": "66280685-1000-4c82-ab83-10d5410e408b",
   "metadata": {},
   "source": [
    "# Inhaltsverzechnis\n",
    "- DataArray und Dataset\n",
    "- Dimensionen und Koordinaten\n",
    "- Indizierung\n",
    "- `xarray.where` Array Auswahl nach beliebigen Kriterien"
   ]
  },
  {
   "cell_type": "markdown",
   "id": "5a535803-edd0-4717-94a3-bcf498a86a28",
   "metadata": {},
   "source": [
    "# Einführung zu xarray\n",
    "\n",
    "xarray ist ein Pythonpaket für die Verarbeitung von Daten im Netcdf Format. Xarray ist sehr hilfreich für die Verarbeitung von netcdf files mit meteorologischen Daten. \n",
    "\n",
    "## Abhängigkeiten\n",
    "https://docs.xarray.dev/en/stable/getting-started-guide/installing.html\n",
    "\n",
    "xarray braucht mindestestens \n",
    "- `numpy`\n",
    "- `pandas`\n",
    "- `packaging`.\n",
    "\n",
    "Allerdings gibt es viele hilfreiche Funktionalitäten, die nur nutzbar sind, wenn weitere Abhängigkeiten erfüllt sind. Besonders nützlich sind (Auswahl!):\n",
    "- `dask`: lazy loading von großen Dateien. Operationen werden parallel und erst auf Aufforderung ausgeführt.\n",
    "- `netCDF4`\n",
    "- `scipy`\n",
    "- `cftime`: für die Verarbeitung von Datumsformaten\n",
    "- `matplotlib`, `cartopy`\n",
    "\n",
    "\n",
    "## Häufige Probleme\n",
    "### numpy version\n",
    "Relativ häufig gibt es Probleme beim Lesen von Dateien, wenn eine neue `xarray` version auf eine ältere `numpy` Version trifft. Da hilft nur, sich eine environment anzulegen und hier ein neueres numpy zu installieren. \n",
    "\n",
    "#### netcdf Bibliothek\n",
    "Es kann nervig werden, wenn die C-Bibliotheken inklusive devel Pakete auf SuSe nicht installiert sind. \n",
    "\n",
    "### Differenzierung zwischen Dimensionen und Koordinaten\n",
    "xarray unterscheidet relativ strikt zwischen sogenannten Dimensionen oder Koordinaten. Je nachdem mit welchem Werkzeug man eine netcdf Datei erstellt hat, kann es sein, dass man den Datensatz erst umformatieren muss, bevor die praktischen xarray Funktionalitäten ansteuerbar sind. \n",
    "\n",
    "Eine Dimension hat einen Namen und gibt an wieviele Einträge es in dieser Dimension gibt, z.B. `ncells = 600000`. \n",
    "\n",
    "Eine Koordinate ist z.B. die geographische Breite. Sie hat eine oder mehrere Dimensionen. \n",
    "\n",
    "Viele Plotroutinen von xarray gehen nach Koordinaten oder Dimensionen. \n",
    "\n",
    "## inplace oder nicht?\n",
    "\"Inplace\" bedeutet, dass eine Funktion, die zu einem Objekt gehört, dieses dauerhaft selbst verändert. Viele Funktionen in xarray sind NICHT inplace. D.h. wenn man irgendwas mit einem dataset oder dataarray tut, muss man den output in eine neue Variable schreiben, oder die vorherige überschreiben. "
   ]
  },
  {
   "cell_type": "code",
   "execution_count": null,
   "id": "2e16da6c-bd3e-4e1e-8422-480d8330cdf0",
   "metadata": {},
   "outputs": [],
   "source": [
    "import numpy as np\n",
    "import datetime as dt\n",
    "import xarray\n",
    "import matplotlib.pyplot as plt"
   ]
  },
  {
   "cell_type": "markdown",
   "id": "dd69b29c-e420-46cd-b99a-14704631c6dc",
   "metadata": {},
   "source": [
    "# xarray Basics"
   ]
  },
  {
   "cell_type": "markdown",
   "id": "e382c588-275e-465e-8b67-dbe4ed024e0f",
   "metadata": {},
   "source": [
    "## Dataset und Dataarrays erstellen und Auswählen\n",
    "\n",
    "-> simples Beispiel, normalerweise nützlich, wenn man Daten irgendwoher schon hat und die mit xarray weiterverarbeiten will\n",
    "\n",
    "Quelle: https://docs.xarray.dev/en/stable/getting-started-guide/quick-overview.html"
   ]
  },
  {
   "cell_type": "code",
   "execution_count": null,
   "id": "c1f4b2bf-155e-400a-8903-a593e4db56a8",
   "metadata": {},
   "outputs": [],
   "source": [
    "dataArray = xarray.DataArray(np.random.randn(2, 3), dims=(\"x\", \"y\"), coords={\"x\": [10, 20]})"
   ]
  },
  {
   "cell_type": "code",
   "execution_count": null,
   "id": "7ea35831-b462-4827-9e74-8eb51f041edb",
   "metadata": {},
   "outputs": [],
   "source": [
    "dataArray"
   ]
  },
  {
   "cell_type": "code",
   "execution_count": null,
   "id": "99ab7141-16cb-492c-aac6-3d54a10d699a",
   "metadata": {},
   "outputs": [],
   "source": [
    "dataSet = xarray.Dataset(dict(foo=dataArray, bar=(\"x\", [1, 2]), baz=np.pi))"
   ]
  },
  {
   "cell_type": "code",
   "execution_count": null,
   "id": "6305e31e-462d-4323-afd8-886ad89e1dc3",
   "metadata": {},
   "outputs": [],
   "source": [
    "dataSet"
   ]
  },
  {
   "cell_type": "code",
   "execution_count": null,
   "id": "e63eb61f-0501-4d56-8758-4e602569844c",
   "metadata": {},
   "outputs": [],
   "source": [
    "dataSet.foo"
   ]
  },
  {
   "cell_type": "code",
   "execution_count": null,
   "id": "4a5aaff6-1ab2-47f6-bd4d-17f5d559119f",
   "metadata": {},
   "outputs": [],
   "source": [
    "dataSet['x'] # key syntax"
   ]
  },
  {
   "cell_type": "code",
   "execution_count": null,
   "id": "37da0112-ac1e-44fb-908c-ec8c8849bb4e",
   "metadata": {},
   "outputs": [],
   "source": [
    "dataSet.foo.dims"
   ]
  },
  {
   "cell_type": "code",
   "execution_count": null,
   "id": "0a20dfd6-c3ba-47b8-83b1-39944b6bff2b",
   "metadata": {},
   "outputs": [],
   "source": [
    "dataSet.foo.coords"
   ]
  },
  {
   "cell_type": "code",
   "execution_count": null,
   "id": "95575e37-cea5-42e1-8039-92041a1fb0ff",
   "metadata": {},
   "outputs": [],
   "source": [
    "# add some new coordinates with dimension x\n",
    "# Caution: assign_coords does not work on the array itself (inplace), you have to save the output!\n",
    "dataSet = dataSet.assign_coords(dict(**dataSet['foo'].coords, lat=('x',np.array([50,70]))))\n",
    "dataSet"
   ]
  },
  {
   "cell_type": "code",
   "execution_count": null,
   "id": "bf39ac97-e6fb-4764-8336-54e24a99bd06",
   "metadata": {},
   "outputs": [],
   "source": [
    "dataSet.drop_vars(['baz']) # remove baz "
   ]
  },
  {
   "cell_type": "code",
   "execution_count": null,
   "id": "bfacbdd3-799a-479e-9964-8be1f8451c56",
   "metadata": {},
   "outputs": [],
   "source": [
    "dataSet.drop_vars(['foo','bar'])"
   ]
  },
  {
   "cell_type": "code",
   "execution_count": null,
   "id": "20a565da-edc7-4847-bff1-e5fef658dbb1",
   "metadata": {},
   "outputs": [],
   "source": [
    "dataSet.data_vars"
   ]
  },
  {
   "cell_type": "code",
   "execution_count": null,
   "id": "bde8e4e1-ff64-4cfd-95ae-a7d46ff59c4c",
   "metadata": {},
   "outputs": [],
   "source": [
    "type(dataSet['foo'])"
   ]
  },
  {
   "cell_type": "code",
   "execution_count": null,
   "id": "9c84816d-2280-4937-a94c-4999d51fead2",
   "metadata": {},
   "outputs": [],
   "source": [
    "type(dataSet['foo'].values)"
   ]
  },
  {
   "cell_type": "markdown",
   "id": "9671a26b-f1b7-4579-b748-751e9a1521d7",
   "metadata": {},
   "source": [
    "## Indizieren"
   ]
  },
  {
   "cell_type": "markdown",
   "id": "8c9d3bd8-4bb1-4add-889c-2258449b7d3f",
   "metadata": {},
   "source": [
    "### isel: Selektion nach index, d.h. nach n-tem Eintrag einer Dimension"
   ]
  },
  {
   "cell_type": "code",
   "execution_count": null,
   "id": "06da728c-937a-4d89-9eb5-d8acf3ffee02",
   "metadata": {},
   "outputs": [],
   "source": [
    "dataSet.isel(dict(y=[1],x=[0]))"
   ]
  },
  {
   "cell_type": "code",
   "execution_count": null,
   "id": "c7607539-5cca-43c1-bbb3-c932ee1ff9cf",
   "metadata": {},
   "outputs": [],
   "source": [
    "dataSet.isel(dict(y=[1],x=0)) # drops x Dimension! "
   ]
  },
  {
   "cell_type": "code",
   "execution_count": null,
   "id": "004a8952-a608-42a8-8deb-4cfc729b93c9",
   "metadata": {},
   "outputs": [],
   "source": [
    "dataSet.isel(dict(y=[1],x=0)).drop_dims('y') # explicitely drop dimension y"
   ]
  },
  {
   "cell_type": "markdown",
   "id": "e502003f-b263-48dc-91dd-10e01fa66f0b",
   "metadata": {},
   "source": [
    "### sel: Auswahl nach Koordinate"
   ]
  },
  {
   "cell_type": "code",
   "execution_count": null,
   "id": "c850ea02-8463-4843-9efd-80ed675685ce",
   "metadata": {},
   "outputs": [],
   "source": [
    "dataSet.sel(x=[20])"
   ]
  },
  {
   "cell_type": "markdown",
   "id": "81410a68-9e44-40fd-98ca-cf07613a2850",
   "metadata": {},
   "source": [
    "### boolean array"
   ]
  },
  {
   "cell_type": "code",
   "execution_count": null,
   "id": "3653bc18-e475-4d0a-979f-82819d576ef3",
   "metadata": {},
   "outputs": [],
   "source": [
    "dataArray.shape"
   ]
  },
  {
   "cell_type": "code",
   "execution_count": null,
   "id": "38abf1d2-0300-4745-8412-caa6cda7805d",
   "metadata": {},
   "outputs": [],
   "source": [
    "msk = np.repeat(np.array([[True,False]]),3).reshape((dataArray.shape))\n",
    "msk"
   ]
  },
  {
   "cell_type": "code",
   "execution_count": null,
   "id": "ffb34a80-d691-4ec0-90f6-e74a16ebbcc4",
   "metadata": {},
   "outputs": [],
   "source": [
    "dataArray"
   ]
  },
  {
   "cell_type": "code",
   "execution_count": null,
   "id": "8deab781-8a3c-460e-8d18-59381d2f2b06",
   "metadata": {},
   "outputs": [],
   "source": [
    "dataArray.values[msk] # numpy array index"
   ]
  },
  {
   "cell_type": "markdown",
   "id": "2ea9987a-7fd6-48fb-8e09-c3e3dbb6d544",
   "metadata": {},
   "source": [
    "### xarray.where"
   ]
  },
  {
   "cell_type": "code",
   "execution_count": null,
   "id": "2f26ca38-cc2a-44b2-a37b-f2b0fdb60446",
   "metadata": {},
   "outputs": [],
   "source": [
    "xa_msk = xarray.DataArray(msk,coords=dataArray.coords)\n",
    "xa_msk"
   ]
  },
  {
   "cell_type": "code",
   "execution_count": null,
   "id": "8053efe1-93aa-4fd0-9cbc-5ffead5abf94",
   "metadata": {},
   "outputs": [],
   "source": [
    "dataArray.where(xa_msk)"
   ]
  },
  {
   "cell_type": "code",
   "execution_count": null,
   "id": "8b9e28ae-7d2f-408c-b46f-7628d437d5b0",
   "metadata": {},
   "outputs": [],
   "source": [
    "dataSet.where(dataSet.foo>0)"
   ]
  },
  {
   "cell_type": "code",
   "execution_count": null,
   "id": "b9405c2c-b7a1-43c0-bf19-47cb94b7b037",
   "metadata": {},
   "outputs": [],
   "source": [
    "dataSet.foo>0"
   ]
  },
  {
   "cell_type": "code",
   "execution_count": null,
   "id": "27d752bd-6c8a-4e6f-a842-3f6069da620f",
   "metadata": {},
   "outputs": [],
   "source": [
    "xarray.where(dataSet.foo>0,dataSet.foo, np.inf) # 1st argument is a boolean xarray"
   ]
  },
  {
   "cell_type": "code",
   "execution_count": null,
   "id": "978946c8-af9f-4f88-8dbf-08c5fd562d1f",
   "metadata": {},
   "outputs": [],
   "source": [
    "xarray.where(dataSet.foo>0,7, np.inf) "
   ]
  },
  {
   "cell_type": "code",
   "execution_count": null,
   "id": "5862f078-acfb-4b95-a4f4-8db89ba0a034",
   "metadata": {},
   "outputs": [],
   "source": []
  }
 ],
 "metadata": {
  "kernelspec": {
   "display_name": "Python 3 (ipykernel)",
   "language": "python",
   "name": "python3"
  },
  "language_info": {
   "codemirror_mode": {
    "name": "ipython",
    "version": 3
   },
   "file_extension": ".py",
   "mimetype": "text/x-python",
   "name": "python",
   "nbconvert_exporter": "python",
   "pygments_lexer": "ipython3",
   "version": "3.12.9"
  }
 },
 "nbformat": 4,
 "nbformat_minor": 5
}
