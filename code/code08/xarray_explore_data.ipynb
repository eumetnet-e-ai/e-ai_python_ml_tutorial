{
 "cells": [
  {
   "cell_type": "markdown",
   "id": "61de9bd9-1bc9-4547-8308-58e47e6ac0e1",
   "metadata": {},
   "source": [
    "# process cloudnet netcdf file"
   ]
  },
  {
   "cell_type": "code",
   "execution_count": null,
   "id": "8191d869-5b76-4cdf-8efd-bae1c8a6ea95",
   "metadata": {},
   "outputs": [],
   "source": [
    "import numpy as np\n",
    "import datetime as dt\n",
    "import xarray\n",
    "import matplotlib.pyplot as plt"
   ]
  },
  {
   "cell_type": "markdown",
   "id": "af11c851-2573-4ba2-96f8-54f25252e258",
   "metadata": {},
   "source": [
    "# Download some cloudnet data"
   ]
  },
  {
   "cell_type": "code",
   "execution_count": null,
   "id": "62fc13ff-4e26-42dc-b0f0-8118e780bd43",
   "metadata": {},
   "outputs": [],
   "source": [
    "# #https://cloudnet.fmi.fi/api/download/collection/c31374b9-5ac2-4d72-92f1-1813451a69aa\n",
    "# hashF = 'c31374b9-5ac2-4d72-92f1-1813451a69aa'"
   ]
  },
  {
   "cell_type": "code",
   "execution_count": null,
   "id": "b66b7b2d-4069-412a-9cdc-7d6d3a3163d8",
   "metadata": {},
   "outputs": [],
   "source": [
    "# ! mkdir cloudnet"
   ]
  },
  {
   "cell_type": "code",
   "execution_count": null,
   "id": "18b3e41b-8ef1-49ca-91b7-538cd962a64a",
   "metadata": {},
   "outputs": [],
   "source": [
    "# ! wget https://cloudnet.fmi.fi/api/download/collection/{hashF}"
   ]
  },
  {
   "cell_type": "code",
   "execution_count": null,
   "id": "99fb7094-b377-4c3d-a62b-6e6d0e7af565",
   "metadata": {},
   "outputs": [],
   "source": [
    "# ! mv {hashF} cloudnet/\n",
    "# ! unzip cloudnet/{hashF} -d cloudnet"
   ]
  },
  {
   "cell_type": "markdown",
   "id": "609dcedc-903e-40c8-958e-afbe864d6030",
   "metadata": {},
   "source": [
    "# read the downloaded file"
   ]
  },
  {
   "cell_type": "code",
   "execution_count": null,
   "id": "c8776d74-c8e9-47c0-8712-df025f9111a9",
   "metadata": {},
   "outputs": [],
   "source": [
    "ifile = './cloudnet/20250105_juelich_iwc-Z-T-method.nc'"
   ]
  },
  {
   "cell_type": "code",
   "execution_count": null,
   "id": "6b0abce6-ed6c-41d8-b2b8-c3d7e385ed09",
   "metadata": {},
   "outputs": [],
   "source": [
    "cn = xarray.open_dataset(ifile)\n",
    "cn"
   ]
  },
  {
   "cell_type": "markdown",
   "id": "6a3f4e57-a643-46f6-9e7b-4e8f0b7f662f",
   "metadata": {},
   "source": [
    "# Quick overview"
   ]
  },
  {
   "cell_type": "code",
   "execution_count": null,
   "id": "7ba31d18-4f89-40aa-a058-57d9fc6cf493",
   "metadata": {},
   "outputs": [],
   "source": [
    "cn.iwc.plot()"
   ]
  },
  {
   "cell_type": "code",
   "execution_count": null,
   "id": "49db2e73-8cfa-4f69-8b21-038118dced5b",
   "metadata": {},
   "outputs": [],
   "source": [
    "cn.iwc.plot(x='time')"
   ]
  },
  {
   "cell_type": "markdown",
   "id": "f4440a04-097e-4037-8887-30058cbbd779",
   "metadata": {},
   "source": [
    "## exclude flagged data"
   ]
  },
  {
   "cell_type": "code",
   "execution_count": null,
   "id": "3bc5acb1-1089-4fc0-a0f3-801377789657",
   "metadata": {},
   "outputs": [],
   "source": [
    "cn.iwc_error.load()"
   ]
  },
  {
   "cell_type": "code",
   "execution_count": null,
   "id": "028529b8-5e41-4ef2-bf50-858c29f340b5",
   "metadata": {},
   "outputs": [],
   "source": [
    "np.isfinite(cn.iwc_error).sum()"
   ]
  },
  {
   "cell_type": "code",
   "execution_count": null,
   "id": "8a1fc9c0-07e3-4515-a36f-9bea029cd2fd",
   "metadata": {},
   "outputs": [],
   "source": [
    "xarray.where(np.isfinite(cn.iwc_error),cn.iwc,np.nan).plot(x='time')"
   ]
  },
  {
   "cell_type": "code",
   "execution_count": null,
   "id": "68bbe974-74eb-4d99-adba-e9dda799ee47",
   "metadata": {},
   "outputs": [],
   "source": [
    "cn.iwc.mean(dim='time')"
   ]
  },
  {
   "cell_type": "markdown",
   "id": "9b2143ee-4339-435b-91b8-3e66bbec6ef0",
   "metadata": {},
   "source": [
    "# group data for plotting"
   ]
  },
  {
   "cell_type": "code",
   "execution_count": null,
   "id": "5e86f872-d1aa-4988-b5a0-fc372f107f3b",
   "metadata": {},
   "outputs": [],
   "source": [
    "cn.iwc.mean(dim='time').plot()\n",
    "plt.gca().set_ylabel('IWC mean');"
   ]
  },
  {
   "cell_type": "code",
   "execution_count": null,
   "id": "aab02bbc-821e-4e80-a011-4c62015f8596",
   "metadata": {},
   "outputs": [],
   "source": [
    "cn.iwc.sum(dim='height').plot(label='vertical sum IWC')\n",
    "cn.iwc.sum(dim='height').rolling(time=50, center=True).mean().plot(label='vertical sum IWC (rolling mean)')\n",
    "plt.legend();"
   ]
  },
  {
   "cell_type": "markdown",
   "id": "e412cbd3-351b-4954-b95b-87f11999b7a2",
   "metadata": {},
   "source": [
    "## groupby[_bins]\n",
    "\n",
    "- groupby: gruppiere nach eine Variable, hier eine kategorische (typischerweise Integer)\n",
    "- groupby_bins: idem, aber kontinuierliche Variable in bins eingeteilt"
   ]
  },
  {
   "cell_type": "code",
   "execution_count": null,
   "id": "8bab4726-929f-4c6f-a93b-e27a0afbe899",
   "metadata": {},
   "outputs": [],
   "source": [
    "iwc = cn.iwc"
   ]
  },
  {
   "cell_type": "code",
   "execution_count": null,
   "id": "730e6281-0c5f-43df-b86a-5c52373cfca4",
   "metadata": {},
   "outputs": [],
   "source": [
    "cn.groupby_bins('iwc',bins=np.arange(00,0.0025, 0.0001))"
   ]
  },
  {
   "cell_type": "code",
   "execution_count": null,
   "id": "3bc08c09-cf4f-4052-92bf-1a4468bf2e18",
   "metadata": {},
   "outputs": [],
   "source": [
    "for k,v in cn.groupby_bins('iwc',bins=np.arange(00,0.001, 0.0002)):\n",
    "    print(k)\n",
    "print(v)"
   ]
  },
  {
   "cell_type": "code",
   "execution_count": null,
   "id": "abbcef51-a9fe-4928-b5e7-caba81484b28",
   "metadata": {},
   "outputs": [],
   "source": [
    "for k,v in cn.groupby_bins('iwc',bins=np.arange(0.,0.001, 0.0002)):\n",
    "    v['iwc'].rolling(stacked_time_height=20, center=True).mean().plot(x='time',label=k)\n",
    "plt.legend(title='IWC bin');"
   ]
  },
  {
   "cell_type": "code",
   "execution_count": null,
   "id": "99475e26-4357-4c65-97fe-41a51009ce09",
   "metadata": {},
   "outputs": [],
   "source": []
  }
 ],
 "metadata": {
  "kernelspec": {
   "display_name": "fe1py",
   "language": "python",
   "name": "fe1py"
  },
  "language_info": {
   "codemirror_mode": {
    "name": "ipython",
    "version": 3
   },
   "file_extension": ".py",
   "mimetype": "text/x-python",
   "name": "python",
   "nbconvert_exporter": "python",
   "pygments_lexer": "ipython3",
   "version": "3.12.9"
  }
 },
 "nbformat": 4,
 "nbformat_minor": 5
}
