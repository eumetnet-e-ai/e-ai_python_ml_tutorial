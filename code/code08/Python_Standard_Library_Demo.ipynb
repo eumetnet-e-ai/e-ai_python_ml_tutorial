{
 "cells": [
  {
   "cell_type": "markdown",
   "id": "68e07595",
   "metadata": {},
   "source": [
    "# Python Packages\n",
    "This notebook demonstrates the use of Python's standard library for common programming tasks, complementing the LaTeX-based explanations from the textbook chapter."
   ]
  },
  {
   "cell_type": "markdown",
   "id": "72a627a7",
   "metadata": {},
   "source": [
    "## Review of the Python Standard Library\n",
    "Python includes a comprehensive standard library. Below, we explore selected modules using small examples."
   ]
  },
  {
   "cell_type": "markdown",
   "id": "059850de",
   "metadata": {},
   "source": [
    "### Working with the OS and Filesystem"
   ]
  },
  {
   "cell_type": "code",
   "execution_count": 1,
   "id": "e7856b86",
   "metadata": {},
   "outputs": [
    {
     "name": "stdout",
     "output_type": "stream",
     "text": [
      "['sequence_analysis.ipynb', 'cth_clusters_ordered.png', 'cth_comparison_side_by_side.png', 'cth_convective_growth.png', 'cth_data', 'cth_difference_map.png', 'cth_latest.nc', 'cth_max_change_map.png', 'cth_motion_farneback.png', 'cth_motion_vectors.png', 'cth_motion_vectors_improved.png', 'cth_optical_flow_map.png', 'scikit-learn_cth_clustering.ipynb', 'xarray_explore_rea.ipynb', '.ipynb_checkpoints', 'xarray_basics.ipynb', 'xarray_explore_data.ipynb', 'xarray_explore_icon_triangular.ipynb', 'Python_Standard_Library_Demo.ipynb']\n"
     ]
    }
   ],
   "source": [
    "import os\n",
    "\n",
    "# List all files in the current directory\n",
    "files = os.listdir('.')\n",
    "print(files)"
   ]
  },
  {
   "cell_type": "code",
   "execution_count": 3,
   "id": "51e846c5",
   "metadata": {},
   "outputs": [
    {
     "name": "stdout",
     "output_type": "stream",
     "text": [
      "File exists: True\n"
     ]
    }
   ],
   "source": [
    "from pathlib import Path\n",
    "\n",
    "# Create a path object and check if a file exists\n",
    "path = Path(\"cth_clusters_ordered.png\")\n",
    "print(\"File exists:\", path.exists())"
   ]
  },
  {
   "cell_type": "markdown",
   "id": "8bc0fe2f",
   "metadata": {},
   "source": [
    "### Working with JSON Data"
   ]
  },
  {
   "cell_type": "code",
   "execution_count": 4,
   "id": "6d03df82",
   "metadata": {},
   "outputs": [
    {
     "name": "stdout",
     "output_type": "stream",
     "text": [
      "{\"name\": \"Alice\", \"age\": 30}\n",
      "Alice\n"
     ]
    }
   ],
   "source": [
    "import json\n",
    "\n",
    "data = {\"name\": \"Alice\", \"age\": 30}\n",
    "json_str = json.dumps(data)\n",
    "print(json_str)\n",
    "\n",
    "# Convert JSON string back to dictionary\n",
    "decoded = json.loads(json_str)\n",
    "print(decoded[\"name\"])"
   ]
  },
  {
   "cell_type": "markdown",
   "id": "8ba674dd",
   "metadata": {},
   "source": [
    "### Running External Commands"
   ]
  },
  {
   "cell_type": "code",
   "execution_count": 5,
   "id": "fdf12423",
   "metadata": {},
   "outputs": [
    {
     "name": "stdout",
     "output_type": "stream",
     "text": [
      "Hello, World!\n",
      "\n"
     ]
    }
   ],
   "source": [
    "import subprocess\n",
    "\n",
    "# Run a shell command and capture its output\n",
    "result = subprocess.run([\"echo\", \"Hello, World!\"], capture_output=True, text=True)\n",
    "print(result.stdout)"
   ]
  },
  {
   "cell_type": "markdown",
   "id": "3a6e9eb1",
   "metadata": {},
   "source": [
    "### Using Regular Expressions"
   ]
  },
  {
   "cell_type": "code",
   "execution_count": 6,
   "id": "71bd3f7d",
   "metadata": {},
   "outputs": [
    {
     "name": "stdout",
     "output_type": "stream",
     "text": [
      "Found email: example@example.com\n"
     ]
    }
   ],
   "source": [
    "import re\n",
    "\n",
    "text = \"My email is example@example.com\"\n",
    "match = re.search(r\"[\\w.-]+@[\\w.-]+\", text)\n",
    "if match:\n",
    "    print(\"Found email:\", match.group())"
   ]
  },
  {
   "cell_type": "markdown",
   "id": "37001895",
   "metadata": {},
   "source": [
    "This notebook demonstrated several standard library modules that are foundational for many Python applications."
   ]
  }
 ],
 "metadata": {
  "kernelspec": {
   "display_name": "Python 3 (ipykernel)",
   "language": "python",
   "name": "python3"
  },
  "language_info": {
   "codemirror_mode": {
    "name": "ipython",
    "version": 3
   },
   "file_extension": ".py",
   "mimetype": "text/x-python",
   "name": "python",
   "nbconvert_exporter": "python",
   "pygments_lexer": "ipython3",
   "version": "3.11.11"
  }
 },
 "nbformat": 4,
 "nbformat_minor": 5
}
