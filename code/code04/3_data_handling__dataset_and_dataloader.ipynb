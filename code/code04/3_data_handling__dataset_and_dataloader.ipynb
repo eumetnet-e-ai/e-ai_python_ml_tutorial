{
 "cells": [
  {
   "cell_type": "markdown",
   "id": "ffc184d4",
   "metadata": {},
   "source": [
    "# Data Handling - Dataset and DataLoader"
   ]
  },
  {
   "cell_type": "markdown",
   "id": "e1297ac9",
   "metadata": {},
   "source": [
    "## Data Loader"
   ]
  },
  {
   "cell_type": "code",
   "execution_count": 1,
   "id": "b6d99681-569c-40e1-ae2e-3f370d1f02d8",
   "metadata": {},
   "outputs": [
    {
     "name": "stdout",
     "output_type": "stream",
     "text": [
      "Train dataset size: 80, Test dataset size: 20\n",
      "First training sample - X shape: torch.Size([10]), y shape: torch.Size([1])\n",
      "First training sample - X: [0.12899284 0.1336563  0.90335464 0.21525885 0.5082561  0.8833535\n",
      " 0.9791541  0.38017845 0.15549332 0.18559232], y: [0.42843747]\n"
     ]
    }
   ],
   "source": [
    "import torch\n",
    "import numpy as np\n",
    "from torch.utils.data import TensorDataset, DataLoader\n",
    "\n",
    "# Generate synthetic data: 100 samples with 10 features each\n",
    "X = np.random.rand(100, 10)\n",
    "y = np.random.rand(100, 1)\n",
    "\n",
    "# Convert numpy arrays to torch tensors\n",
    "X_tensor = torch.tensor(X, dtype=torch.float32)\n",
    "y_tensor = torch.tensor(y, dtype=torch.float32)\n",
    "\n",
    "# Create a TensorDataset and then split it into training and test sets\n",
    "dataset = TensorDataset(X_tensor, y_tensor)\n",
    "train_size = int(0.8 * len(dataset))\n",
    "test_size = len(dataset) - train_size\n",
    "train_dataset, test_dataset = torch.utils.data.random_split(dataset, [train_size, test_size])\n",
    "\n",
    "# Diagnostic Output\n",
    "print(f\"Train dataset size: {len(train_dataset)}, Test dataset size: {len(test_dataset)}\")\n",
    "\n",
    "# Show shapes of the first batch\n",
    "first_train_sample = train_dataset[0]\n",
    "print(f\"First training sample - X shape: {first_train_sample[0].shape}, y shape: {first_train_sample[1].shape}\")\n",
    "\n",
    "# Show content of the first training sample\n",
    "print(f\"First training sample - X: {first_train_sample[0].numpy()}, y: {first_train_sample[1].numpy()}\")\n"
   ]
  },
  {
   "cell_type": "code",
   "execution_count": 2,
   "id": "d64113a7",
   "metadata": {},
   "outputs": [
    {
     "name": "stdout",
     "output_type": "stream",
     "text": [
      "1) Batch X shape: torch.Size([16, 10])\n",
      "      Batch y shape: torch.Size([16, 1])\n",
      "2) Batch X shape: torch.Size([16, 10])\n",
      "      Batch y shape: torch.Size([16, 1])\n",
      "3) Batch X shape: torch.Size([16, 10])\n",
      "      Batch y shape: torch.Size([16, 1])\n",
      "4) Batch X shape: torch.Size([16, 10])\n",
      "      Batch y shape: torch.Size([16, 1])\n",
      "5) Batch X shape: torch.Size([16, 10])\n",
      "      Batch y shape: torch.Size([16, 1])\n"
     ]
    }
   ],
   "source": [
    "from torch.utils.data import DataLoader\n",
    "\n",
    "# Create a DataLoader for the training dataset\n",
    "dataloader = DataLoader(train_dataset, batch_size=16, shuffle=True)\n",
    "\n",
    "# Example: Iterate through one batch\n",
    "n = 1\n",
    "for batch_X, batch_y in dataloader:\n",
    "    print(f\"{n}) Batch X shape:\", batch_X.size())\n",
    "    print(\"      Batch y shape:\", batch_y.size())\n",
    "    n += 1\n"
   ]
  },
  {
   "cell_type": "code",
   "execution_count": null,
   "id": "c9f11604-3af1-453e-82c9-b1c0efc0a41d",
   "metadata": {},
   "outputs": [],
   "source": []
  }
 ],
 "metadata": {
  "kernelspec": {
   "display_name": "Python 3 (ipykernel)",
   "language": "python",
   "name": "python3"
  },
  "language_info": {
   "codemirror_mode": {
    "name": "ipython",
    "version": 3
   },
   "file_extension": ".py",
   "mimetype": "text/x-python",
   "name": "python",
   "nbconvert_exporter": "python",
   "pygments_lexer": "ipython3",
   "version": "3.12.8"
  }
 },
 "nbformat": 4,
 "nbformat_minor": 5
}
