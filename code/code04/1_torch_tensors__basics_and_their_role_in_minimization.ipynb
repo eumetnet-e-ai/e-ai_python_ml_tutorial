{
 "cells": [
  {
   "cell_type": "markdown",
   "id": "45571d28",
   "metadata": {},
   "source": [
    "# Torch Tensors - Basics and Their Role in Minimization"
   ]
  },
  {
   "cell_type": "markdown",
   "id": "d261de1d",
   "metadata": {},
   "source": [
    "## Tensor Operations and Gradients"
   ]
  },
  {
   "cell_type": "code",
   "execution_count": 1,
   "id": "679050a8",
   "metadata": {},
   "outputs": [
    {
     "name": "stdout",
     "output_type": "stream",
     "text": [
      "Tensor a: tensor([1., 2., 3.])\n",
      "Random tensor b:\n",
      " tensor([[0.4143, 0.6236, 0.7756],\n",
      "        [0.2465, 0.1432, 0.8087],\n",
      "        [0.6525, 0.1953, 0.3172]])\n",
      "Tensor c (a multiplied by 2): tensor([2., 4., 6.])\n",
      "Gradients of y with respect to x: tensor([4., 6.])\n"
     ]
    }
   ],
   "source": [
    "import torch\n",
    "\n",
    "# Create a tensor from a Python list\n",
    "a = torch.tensor([1.0, 2.0, 3.0])\n",
    "print(\"Tensor a:\", a)\n",
    "\n",
    "# Create a 3x3 tensor with random values\n",
    "b = torch.rand(3, 3)\n",
    "print(\"Random tensor b:\\n\", b)\n",
    "\n",
    "# Perform arithmetic: multiply tensor 'a' by 2\n",
    "c = a * 2\n",
    "print(\"Tensor c (a multiplied by 2):\", c)\n",
    "\n",
    "# For minimization, we need tensors that track gradients.\n",
    "# Create a tensor with requires_grad=True so that operations on it are tracked.\n",
    "x = torch.tensor([2.0, 3.0], requires_grad=True)\n",
    "\n",
    "# Define a simple quadratic function: f(x) = x[0]^2 + x[1]^2\n",
    "y = x[0]**2 + x[1]**2\n",
    "\n",
    "# Compute gradients with respect to x using backpropagation\n",
    "y.backward()\n",
    "\n",
    "# The gradients of y with respect to x are stored in x.grad\n",
    "print(\"Gradients of y with respect to x:\", x.grad)\n"
   ]
  }
 ],
 "metadata": {
  "kernelspec": {
   "display_name": "Python 3 (ipykernel)",
   "language": "python",
   "name": "python3"
  },
  "language_info": {
   "codemirror_mode": {
    "name": "ipython",
    "version": 3
   },
   "file_extension": ".py",
   "mimetype": "text/x-python",
   "name": "python",
   "nbconvert_exporter": "python",
   "pygments_lexer": "ipython3",
   "version": "3.12.8"
  }
 },
 "nbformat": 4,
 "nbformat_minor": 5
}
